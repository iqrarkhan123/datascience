{
 "cells": [
  {
   "cell_type": "markdown",
   "metadata": {},
   "source": [
    "<h2>Python's Introduction</h2>"
   ]
  },
  {
   "cell_type": "markdown",
   "metadata": {},
   "source": [
    "<h2>What is Python?</h2>\n",
    "\n",
    "Python is a popular programming language. It was created by Guido van Rossum, and released in 1991."
   ]
  },
  {
   "cell_type": "markdown",
   "metadata": {},
   "source": [
    "<h2>What can Python do?</h2>\n",
    "<ul>\n",
    "    <li>Python can be used on a server to create web applications.</li>\n",
    "    <li>Python can be used alongside software to create workflows.</li>\n",
    "    <li>Python can connect to database systems. It can also read and modify files.</li>\n",
    "    <li>Python can be used to handle big data and perform complex mathematics.</li>\n",
    "</ul>"
   ]
  },
  {
   "cell_type": "markdown",
   "metadata": {},
   "source": [
    "<h2>Why Python?</h2>\n",
    "<ul>\n",
    "    <li>Python works on different platforms (Windows, Mac, Linux, Raspberry Pi, etc).</li>\n",
    "    <li>Python has a simple syntax similar to the English language.</li>\n",
    "    <li>Python has syntax that allows developers to write programs with fewer lines than some other programming languages.</li>\n",
    "    <li>Python runs on an interpreter system, meaning that code can be executed as soon as it is written. This means that prototyping can be very quick.</li>\n",
    "    <li>Python can be treated in a procedural way, an object-oriented way or a functional way.</li>\n",
    "</ul>"
   ]
  },
  {
   "cell_type": "markdown",
   "metadata": {},
   "source": [
    "<h2>Python Syntax compared to other programming languages</h2>\n",
    "<ul>\n",
    "    <li>Python was designed for readability, and has some similarities to the English language with influence from mathematics.</li>\n",
    "    <li>Python uses new lines to complete a command, as opposed to other programming languages which often use semicolons or parentheses.</li>\n",
    "    <li>Python relies on indentation, using whitespace, to define scope; such as the scope of loops, functions and classes. Other programming languages often use curly-brackets for this purpose.</li>\n",
    "</ul>"
   ]
  },
  {
   "cell_type": "code",
   "execution_count": 4,
   "metadata": {},
   "outputs": [
    {
     "name": "stdout",
     "output_type": "stream",
     "text": [
      "anything\n"
     ]
    }
   ],
   "source": [
    "# To print anything on screen\n",
    "print(\"anything\")"
   ]
  },
  {
   "cell_type": "code",
   "execution_count": 5,
   "metadata": {},
   "outputs": [],
   "source": [
    "# variable declaration\n",
    "name = 'ALi'"
   ]
  },
  {
   "cell_type": "code",
   "execution_count": 7,
   "metadata": {},
   "outputs": [],
   "source": [
    "name = 1"
   ]
  },
  {
   "cell_type": "code",
   "execution_count": 9,
   "metadata": {},
   "outputs": [],
   "source": [
    "name = 1.0"
   ]
  },
  {
   "cell_type": "code",
   "execution_count": 10,
   "metadata": {},
   "outputs": [
    {
     "name": "stdout",
     "output_type": "stream",
     "text": [
      "<class 'float'>\n"
     ]
    }
   ],
   "source": [
    "print(type(name))"
   ]
  },
  {
   "cell_type": "markdown",
   "metadata": {},
   "source": [
    "<h2>Rules for Python variables:</h2>\n",
    "<ul>\n",
    "    <li>A variable name must start with a letter or the underscore character</li>\n",
    "    <li>A variable name cannot start with a number</li>\n",
    "    <li>A variable name can only contain alpha-numeric characters and underscores (A-z, 0-9, and _ )</li>\n",
    "    <li>Variable names are case-sensitive (age, Age and AGE are three different variables)</li>\n",
    "<ul>"
   ]
  },
  {
   "cell_type": "code",
   "execution_count": 15,
   "metadata": {},
   "outputs": [
    {
     "name": "stdout",
     "output_type": "stream",
     "text": [
      "Enter your name: haseeb\n"
     ]
    }
   ],
   "source": [
    "# Input from User\n",
    "name = input('Enter your name: ')"
   ]
  },
  {
   "cell_type": "code",
   "execution_count": 18,
   "metadata": {},
   "outputs": [],
   "source": [
    "last_name = 'Zulfiqar'"
   ]
  },
  {
   "cell_type": "code",
   "execution_count": 23,
   "metadata": {},
   "outputs": [
    {
     "name": "stdout",
     "output_type": "stream",
     "text": [
      "Zulfiqar\n",
      "haseeb\n"
     ]
    }
   ],
   "source": [
    "print(last_name)\n",
    "print(name)"
   ]
  },
  {
   "cell_type": "code",
   "execution_count": 25,
   "metadata": {},
   "outputs": [
    {
     "name": "stdout",
     "output_type": "stream",
     "text": [
      "Ali 27\n",
      "27\n"
     ]
    }
   ],
   "source": [
    "name, age = 'Ali', 27\n",
    "print(name,age)\n",
    "print(age)"
   ]
  },
  {
   "cell_type": "code",
   "execution_count": 30,
   "metadata": {},
   "outputs": [
    {
     "name": "stdout",
     "output_type": "stream",
     "text": [
      "Enter your name and age, seprated by comma (,) :hafeez,29\n"
     ]
    }
   ],
   "source": [
    "name, age = input('Enter your name and age, seprated by comma (,) :').split(',')"
   ]
  },
  {
   "cell_type": "code",
   "execution_count": 31,
   "metadata": {},
   "outputs": [
    {
     "name": "stdout",
     "output_type": "stream",
     "text": [
      "hafeez 29\n"
     ]
    }
   ],
   "source": [
    "print(name,age)"
   ]
  },
  {
   "cell_type": "code",
   "execution_count": 32,
   "metadata": {},
   "outputs": [
    {
     "name": "stdout",
     "output_type": "stream",
     "text": [
      "You name is hafeez and your age is 29\n"
     ]
    }
   ],
   "source": [
    "## String Formatting\n",
    "print(f'You name is {name} and your age is {age}')"
   ]
  },
  {
   "cell_type": "code",
   "execution_count": 38,
   "metadata": {},
   "outputs": [
    {
     "name": "stdout",
     "output_type": "stream",
     "text": [
      "m\n",
      "shai\n"
     ]
    }
   ],
   "source": [
    "## Indexing and Slicing\n",
    "# Indexing is used to obtain individual elements. While,\n",
    "# Slicing is used to obtain a sequence of elements\n",
    "\n",
    "name = \"Jamshaid\"\n",
    "print(name[-6])\n",
    "\n",
    "print(name[3:7])"
   ]
  },
  {
   "cell_type": "code",
   "execution_count": 39,
   "metadata": {},
   "outputs": [
    {
     "name": "stdout",
     "output_type": "stream",
     "text": [
      "Jamshai\n"
     ]
    }
   ],
   "source": [
    "print(name[:7])"
   ]
  },
  {
   "cell_type": "code",
   "execution_count": 40,
   "metadata": {},
   "outputs": [
    {
     "name": "stdout",
     "output_type": "stream",
     "text": [
      "shaid\n"
     ]
    }
   ],
   "source": [
    "print(name[3:])"
   ]
  },
  {
   "cell_type": "code",
   "execution_count": 41,
   "metadata": {},
   "outputs": [
    {
     "name": "stdout",
     "output_type": "stream",
     "text": [
      "Jamshaid\n"
     ]
    }
   ],
   "source": [
    "print(name[:])"
   ]
  },
  {
   "cell_type": "code",
   "execution_count": 50,
   "metadata": {},
   "outputs": [
    {
     "name": "stdout",
     "output_type": "stream",
     "text": [
      "Jamshaid\n"
     ]
    }
   ],
   "source": [
    "#step argument\n",
    "print(name[::1])"
   ]
  },
  {
   "cell_type": "code",
   "execution_count": 51,
   "metadata": {},
   "outputs": [
    {
     "name": "stdout",
     "output_type": "stream",
     "text": [
      "Jmhi\n"
     ]
    }
   ],
   "source": [
    "print(name[::2])"
   ]
  },
  {
   "cell_type": "code",
   "execution_count": 52,
   "metadata": {},
   "outputs": [
    {
     "name": "stdout",
     "output_type": "stream",
     "text": [
      "Jsi\n"
     ]
    }
   ],
   "source": [
    "print(name[::3])"
   ]
  },
  {
   "cell_type": "code",
   "execution_count": 62,
   "metadata": {
    "scrolled": true
   },
   "outputs": [
    {
     "name": "stdout",
     "output_type": "stream",
     "text": [
      "diahsmaJ\n"
     ]
    }
   ],
   "source": [
    "name = \"Jamshaid\"\n",
    "print(name[::-1])"
   ]
  },
  {
   "cell_type": "code",
   "execution_count": 63,
   "metadata": {},
   "outputs": [
    {
     "name": "stdout",
     "output_type": "stream",
     "text": [
      "dasa\n"
     ]
    }
   ],
   "source": [
    "print(name[::-2])"
   ]
  },
  {
   "cell_type": "code",
   "execution_count": 64,
   "metadata": {},
   "outputs": [
    {
     "name": "stdout",
     "output_type": "stream",
     "text": [
      "dha\n"
     ]
    }
   ],
   "source": [
    "print(name[::-3])"
   ]
  },
  {
   "cell_type": "code",
   "execution_count": 66,
   "metadata": {},
   "outputs": [
    {
     "name": "stdout",
     "output_type": "stream",
     "text": [
      "Jmhi\n"
     ]
    }
   ],
   "source": [
    "print(name[::2])"
   ]
  },
  {
   "cell_type": "code",
   "execution_count": null,
   "metadata": {},
   "outputs": [],
   "source": [
    "name = \"Jamshaid\""
   ]
  },
  {
   "cell_type": "markdown",
   "metadata": {},
   "source": [
    "## Day 2"
   ]
  },
  {
   "cell_type": "code",
   "execution_count": 1,
   "metadata": {},
   "outputs": [],
   "source": [
    "word = 'Hellow World'"
   ]
  },
  {
   "cell_type": "code",
   "execution_count": 2,
   "metadata": {},
   "outputs": [
    {
     "name": "stdout",
     "output_type": "stream",
     "text": [
      "Hellow\n"
     ]
    }
   ],
   "source": [
    "print(word[0:6:1])"
   ]
  },
  {
   "cell_type": "code",
   "execution_count": 4,
   "metadata": {},
   "outputs": [
    {
     "name": "stdout",
     "output_type": "stream",
     "text": [
      "wolleH\n"
     ]
    }
   ],
   "source": [
    "print(word[-7:-13:-1])"
   ]
  },
  {
   "cell_type": "markdown",
   "metadata": {},
   "source": [
    "### Exercise\n",
    "### Ask class name from user and print in back order\n",
    "##### Note: (try to make your program in two lines using string formatting)"
   ]
  },
  {
   "cell_type": "code",
   "execution_count": 6,
   "metadata": {},
   "outputs": [
    {
     "name": "stdout",
     "output_type": "stream",
     "text": [
      "Enter your class name: Artificial Intelligence\n",
      "classname is Artificial Intelligence and in reverse order it is ecnegilletnI laicifitrA\n"
     ]
    }
   ],
   "source": [
    "class_name = input('Enter your class name: ')\n",
    "print(f'classname is {class_name} and in reverse order it is {class_name[::-1]}')"
   ]
  },
  {
   "cell_type": "markdown",
   "metadata": {},
   "source": [
    "### String methods"
   ]
  },
  {
   "cell_type": "code",
   "execution_count": 9,
   "metadata": {},
   "outputs": [
    {
     "name": "stdout",
     "output_type": "stream",
     "text": [
      "8\n"
     ]
    }
   ],
   "source": [
    "print(len('Jamshaid')) #to check length"
   ]
  },
  {
   "cell_type": "code",
   "execution_count": 13,
   "metadata": {},
   "outputs": [
    {
     "name": "stdout",
     "output_type": "stream",
     "text": [
      "jamshaid\n"
     ]
    }
   ],
   "source": [
    "#lower method\n",
    "name = 'JamsHaid'\n",
    "print(name.lower())"
   ]
  },
  {
   "cell_type": "code",
   "execution_count": 14,
   "metadata": {},
   "outputs": [
    {
     "name": "stdout",
     "output_type": "stream",
     "text": [
      "JAMSHAID\n"
     ]
    }
   ],
   "source": [
    "#upper method\n",
    "name = 'Jamshaid'\n",
    "print(name.upper())"
   ]
  },
  {
   "cell_type": "code",
   "execution_count": 15,
   "metadata": {},
   "outputs": [
    {
     "name": "stdout",
     "output_type": "stream",
     "text": [
      "Jamshaid Ahmad\n"
     ]
    }
   ],
   "source": [
    "#title method\n",
    "name = 'JaMshaid ahmad'\n",
    "print(name.title())"
   ]
  },
  {
   "cell_type": "code",
   "execution_count": 29,
   "metadata": {},
   "outputs": [
    {
     "name": "stdout",
     "output_type": "stream",
     "text": [
      "2\n"
     ]
    }
   ],
   "source": [
    "## count method\n",
    "name = 'Jamshaid'\n",
    "print(name.count('a')) #counting of small a"
   ]
  },
  {
   "cell_type": "code",
   "execution_count": null,
   "metadata": {},
   "outputs": [],
   "source": [
    "## Exercise\n",
    "\n",
    "# Take 2 comma separated inputs from user\n",
    "    # Username\n",
    "    # single character\n",
    "# Output 2 lines\n",
    "    # Username length\n",
    "    # Count the given character from name   (case insensitive)"
   ]
  },
  {
   "cell_type": "code",
   "execution_count": 22,
   "metadata": {},
   "outputs": [
    {
     "name": "stdout",
     "output_type": "stream",
     "text": [
      "Enter your name and a specific character: hasEeb,e\n",
      "Length of username is 6 and e comes 1\n"
     ]
    }
   ],
   "source": [
    "user_name, single_character = input('Enter your name and a specific character: ').split(',')\n",
    "print(f'Length of username is {len(user_name)} and {single_character} comes {user_name.count(single_character)}')"
   ]
  },
  {
   "cell_type": "code",
   "execution_count": 23,
   "metadata": {},
   "outputs": [
    {
     "name": "stdout",
     "output_type": "stream",
     "text": [
      "Enter your name and a specific character: HaseEb,E\n",
      "Length of username is 6 and e comes 2\n"
     ]
    }
   ],
   "source": [
    "user_name, single_character = input('Enter your name and a specific character: ').split(',')\n",
    "user_name = user_name.lower()\n",
    "single_character = single_character.lower()\n",
    "print(f'Length of username is {len(user_name)} and {single_character} comes {user_name.count(single_character)}')"
   ]
  },
  {
   "cell_type": "code",
   "execution_count": 24,
   "metadata": {},
   "outputs": [
    {
     "name": "stdout",
     "output_type": "stream",
     "text": [
      "Enter your name and a specific character: Haseeb,E\n",
      "Length of username is 6 and E comes 2\n"
     ]
    }
   ],
   "source": [
    "user_name, single_character = input('Enter your name and a specific character: ').split(',')\n",
    "user_name = user_name.upper()\n",
    "single_character = single_character.upper()\n",
    "print(f'Length of username is {len(user_name)} and {single_character} comes {user_name.count(single_character)}')"
   ]
  },
  {
   "cell_type": "code",
   "execution_count": 25,
   "metadata": {},
   "outputs": [
    {
     "name": "stdout",
     "output_type": "stream",
     "text": [
      "Enter your name and a specific character: HaseEb,e\n",
      "Length of username is 6 and e comes 2\n"
     ]
    }
   ],
   "source": [
    "user_name, single_character = input('Enter your name and a specific character: ').split(',')\n",
    "print(f'Length of username is {len(user_name)} and {single_character} comes {user_name.lower().count(single_character.lower())}')"
   ]
  },
  {
   "cell_type": "code",
   "execution_count": 30,
   "metadata": {},
   "outputs": [
    {
     "data": {
      "text/plain": [
       "3"
      ]
     },
     "execution_count": 30,
     "metadata": {},
     "output_type": "execute_result"
    }
   ],
   "source": [
    "## find method\n",
    "\n",
    "string = 'she is good singer but she is not good dancer'\n",
    "print(string.count('i'))"
   ]
  },
  {
   "cell_type": "code",
   "execution_count": 31,
   "metadata": {},
   "outputs": [
    {
     "name": "stdout",
     "output_type": "stream",
     "text": [
      "2\n"
     ]
    }
   ],
   "source": [
    "string = 'she is good singer but she is not good dancer'\n",
    "print(string.count('is'))"
   ]
  },
  {
   "cell_type": "code",
   "execution_count": 35,
   "metadata": {},
   "outputs": [
    {
     "name": "stdout",
     "output_type": "stream",
     "text": [
      "she was good singer but she was not good dancer\n"
     ]
    }
   ],
   "source": [
    "## replace method\n",
    "\n",
    "string = 'she is good singer but she is not good dancer'\n",
    "string = string.replace('is','was')\n",
    "print(string)"
   ]
  },
  {
   "cell_type": "code",
   "execution_count": 36,
   "metadata": {},
   "outputs": [
    {
     "name": "stdout",
     "output_type": "stream",
     "text": [
      "she was good singer but she is not good dancer\n"
     ]
    }
   ],
   "source": [
    "string = 'she is good singer but she is not good dancer'\n",
    "string = string.replace('is','was',1)\n",
    "print(string)"
   ]
  },
  {
   "cell_type": "code",
   "execution_count": 38,
   "metadata": {},
   "outputs": [
    {
     "name": "stdout",
     "output_type": "stream",
     "text": [
      "she is good singer but she is not good dancer\n"
     ]
    }
   ],
   "source": [
    "string = 'she is good singer but she is not good dancer'\n",
    "string.replace('is','was',1)\n",
    "print(string)"
   ]
  },
  {
   "cell_type": "code",
   "execution_count": 39,
   "metadata": {},
   "outputs": [
    {
     "name": "stdout",
     "output_type": "stream",
     "text": [
      "Jamshaid Ahmad\n"
     ]
    }
   ],
   "source": [
    "name = 'JaMshaid ahmad'\n",
    "print(name.title())"
   ]
  },
  {
   "cell_type": "code",
   "execution_count": 40,
   "metadata": {},
   "outputs": [
    {
     "name": "stdout",
     "output_type": "stream",
     "text": [
      "JaMshaid ahmad\n"
     ]
    }
   ],
   "source": [
    "print(name)"
   ]
  },
  {
   "cell_type": "code",
   "execution_count": 1,
   "metadata": {},
   "outputs": [],
   "source": [
    "### Assignment operators"
   ]
  },
  {
   "cell_type": "markdown",
   "metadata": {},
   "source": [
    "### Assignment operators"
   ]
  },
  {
   "cell_type": "code",
   "execution_count": 5,
   "metadata": {},
   "outputs": [
    {
     "name": "stdout",
     "output_type": "stream",
     "text": [
      "80\n"
     ]
    }
   ],
   "source": [
    "# Assignment operators are used in Python to assign values to variables. \n",
    "# a = 5 is a simple assignment operator that assigns the value 5 on the right to the variable a on the left. \n",
    "# There are various compound operators in Python like a += 5 that adds to the variable and later assigns the same.\n",
    "\n",
    "age = 24\n",
    "\n",
    "# addition operator \n",
    "age = age + 1\n",
    "age += 1\n",
    "\n",
    "# subtraction operator\n",
    "age -= 10\n",
    "\n",
    "# multiplication operator\n",
    "age *= 5\n",
    "\n",
    "print(age)"
   ]
  },
  {
   "cell_type": "markdown",
   "metadata": {},
   "source": [
    "### Conditional Structures"
   ]
  },
  {
   "cell_type": "code",
   "execution_count": 13,
   "metadata": {},
   "outputs": [
    {
     "name": "stdout",
     "output_type": "stream",
     "text": [
      "Enter your age: 12\n"
     ]
    }
   ],
   "source": [
    "# Conditional statements are also called decision-making statements. \n",
    "# We use those statements while we want to execute \n",
    "# a block of code when the given condition is true or false.\n",
    "\n",
    "# if statement\n",
    "\n",
    "age = int(input('Enter your age: '))\n",
    "# age = int(age)\n",
    "if age>=14:\n",
    "    print('You can watch movie')"
   ]
  },
  {
   "cell_type": "code",
   "execution_count": 20,
   "metadata": {},
   "outputs": [
    {
     "name": "stdout",
     "output_type": "stream",
     "text": [
      "Enter your age: 34\n"
     ]
    }
   ],
   "source": [
    "# pass statement\n",
    "\n",
    "age = int(input('Enter your age: '))\n",
    "if age>=14:\n",
    "    pass"
   ]
  },
  {
   "cell_type": "code",
   "execution_count": 15,
   "metadata": {},
   "outputs": [
    {
     "name": "stdout",
     "output_type": "stream",
     "text": [
      "Enter your age: 16\n",
      "You can watch movie\n"
     ]
    }
   ],
   "source": [
    "# if-else statement\n",
    "\n",
    "age = int(input('Enter your age: '))\n",
    "if age>=14:\n",
    "    print('You can watch movie')\n",
    "else:\n",
    "    print('You can not watch movie')"
   ]
  },
  {
   "cell_type": "code",
   "execution_count": 21,
   "metadata": {},
   "outputs": [],
   "source": [
    "# Exercise\n",
    "\n",
    "## Guess number game\n",
    "\n",
    "# Make a variable like 'winning_number' and assign any number to it\n",
    "# Ask user to guess that number\n",
    "# If user guess correctly then print 'you win!!'\n",
    "# If user doesn’t guess correctly then:\n",
    "    # If user guess lower than actual number then print 'Its lower!!'\n",
    "    # If user guess greater than actual number then print 'It’s greater!!'"
   ]
  },
  {
   "cell_type": "code",
   "execution_count": 27,
   "metadata": {},
   "outputs": [
    {
     "name": "stdout",
     "output_type": "stream",
     "text": [
      "Guess a number: 10\n",
      "you win!!\n"
     ]
    }
   ],
   "source": [
    "winning_number = 10\n",
    "guess_number = int(input('Guess a number: '))\n",
    "if guess_number == winning_number:\n",
    "    print('you win!!')\n",
    "else:\n",
    "    if guess_number < winning_number:\n",
    "        print('Its lower!!')\n",
    "    else:\n",
    "        print('Its Higher!!')"
   ]
  },
  {
   "cell_type": "code",
   "execution_count": 32,
   "metadata": {},
   "outputs": [
    {
     "name": "stdout",
     "output_type": "stream",
     "text": [
      "Enter name and password, seprated by comma: Ali,123\n",
      "incorrect information\n"
     ]
    }
   ],
   "source": [
    "## and operator\n",
    "# Returns True if both statements are true\n",
    "\n",
    "name,password=input(\"Enter name and password, seprated by comma: \").split(\",\")\n",
    "if name==\"Ali\" and password==\"1234\": # If both sides will true then condition will run\n",
    "    print(\"Welcome!!\")\n",
    "else:\n",
    "    print(\"incorrect information\")"
   ]
  },
  {
   "cell_type": "code",
   "execution_count": 35,
   "metadata": {},
   "outputs": [
    {
     "name": "stdout",
     "output_type": "stream",
     "text": [
      "Enter name and password, seprated by comma: ali,123\n",
      "incorrect information\n"
     ]
    }
   ],
   "source": [
    "# or operator\n",
    "# Returns True if one of the statements is true\n",
    "\n",
    "name, password=input(\"Enter name and password, seprated by comma: \").split(\",\")\n",
    "if name==\"Ali\" or password==\"1234\":\n",
    "    print(\"information is correct\")\n",
    "else:\n",
    "    print(\"incorrect information\")"
   ]
  },
  {
   "cell_type": "code",
   "execution_count": 1,
   "metadata": {},
   "outputs": [],
   "source": [
    "## Exercise\n",
    "\n",
    "# Ask user’s name and age\n",
    "# If user’s name start with (‘a’ or ‘A’) and age is above 10 then\n",
    "# Print you can watch movie\n",
    "# Else print sorry you canot watch"
   ]
  },
  {
   "cell_type": "code",
   "execution_count": 13,
   "id": "bcdd5b44",
   "metadata": {},
   "outputs": [
    {
     "name": "stdout",
     "output_type": "stream",
     "text": [
      "sorry you can not watch the movie:\n"
     ]
    }
   ],
   "source": [
    "name= input('enter your name: ')\n",
    "age= int(input('enter your age: '))\n",
    "if (name.startswith('a') or name.startswith('A')) and age >10:\n",
    "    print('you can watch movie!')\n",
    "else:\n",
    "    print('sorry you can not watch the movie:')"
   ]
  },
  {
   "cell_type": "code",
   "execution_count": 6,
   "metadata": {
    "scrolled": true
   },
   "outputs": [
    {
     "name": "stdout",
     "output_type": "stream",
     "text": [
      "Enter Your name: waqas\n",
      "Enter Your age: 15\n",
      "You can not Watch movie\n"
     ]
    }
   ],
   "source": [
    "u_name = input('Enter Your name: ')\n",
    "age = int(input('Enter Your age: '))\n",
    "if (u_name[0] == 'a' or u_name[0] == 'A') and age >10:\n",
    "    print('You can Watch movie')\n",
    "else:\n",
    "    print('You can not Watch movie')"
   ]
  },
  {
   "cell_type": "code",
   "execution_count": 2,
   "metadata": {},
   "outputs": [
    {
     "data": {
      "text/plain": [
       "'A'"
      ]
     },
     "execution_count": 2,
     "metadata": {},
     "output_type": "execute_result"
    }
   ],
   "source": [
    "name = 'Ali'\n",
    "name[0]"
   ]
  },
  {
   "cell_type": "markdown",
   "metadata": {},
   "source": [
    "# Day 5"
   ]
  },
  {
   "cell_type": "code",
   "execution_count": 6,
   "metadata": {},
   "outputs": [
    {
     "name": "stdout",
     "output_type": "stream",
     "text": [
      "Enter your age: -3\n"
     ]
    }
   ],
   "source": [
    "# We use elif when there are multiple conditions to check at a time\n",
    "\n",
    "# Program\n",
    "# ask user for age and\n",
    "# show tickets pricing for different age groups\n",
    "#     1 to 5        (free)\n",
    "#     6 to 10      (100)\n",
    "#     11 to 30    (200)\n",
    "#     Above 30  (300)\n",
    "\n",
    "# Solution\n",
    "age = int(input('Enter your age: '))\n",
    "if 0<age<=5:\n",
    "    print('Ticket Price = 0')\n",
    "elif 5<age<=10:\n",
    "    print('Ticket Price = 100')\n",
    "elif 10<age<=30:\n",
    "    print('Ticket Price = 200')\n",
    "elif age>30:\n",
    "    print('Ticket Price = 300')"
   ]
  },
  {
   "cell_type": "code",
   "execution_count": 11,
   "metadata": {},
   "outputs": [
    {
     "name": "stdout",
     "output_type": "stream",
     "text": [
      "Enter your age: 4\n",
      "Ticket Price = 0\n"
     ]
    }
   ],
   "source": [
    "age = int(input('Enter your age: '))\n",
    "\n",
    "if age<1:\n",
    "    print('invalid age')\n",
    "else:\n",
    "    if 0<age<=5:\n",
    "        print('Ticket Price = 0')\n",
    "    elif 5<age<=10:\n",
    "        print('Ticket Price = 100')\n",
    "    elif 10<age<=30:\n",
    "        print('Ticket Price = 200')\n",
    "    elif age>30:\n",
    "        print('Ticket Price = 300')"
   ]
  },
  {
   "cell_type": "code",
   "execution_count": 13,
   "metadata": {},
   "outputs": [
    {
     "name": "stdout",
     "output_type": "stream",
     "text": [
      "Enter your age: 1\n",
      "Ticket Price = 0\n"
     ]
    }
   ],
   "source": [
    "age = int(input('Enter your age: '))\n",
    "if 0<age<=5:\n",
    "    print('Ticket Price = 0')\n",
    "elif 5<age<=10:\n",
    "    print('Ticket Price = 100')\n",
    "elif 10<age<=30:\n",
    "    print('Ticket Price = 200')\n",
    "elif age>30:\n",
    "    print('Ticket Price = 300')\n",
    "else:\n",
    "    print('invalid error')"
   ]
  },
  {
   "cell_type": "code",
   "execution_count": 14,
   "metadata": {
    "scrolled": true
   },
   "outputs": [
    {
     "name": "stdout",
     "output_type": "stream",
     "text": [
      "Enter your age: 3\n",
      "Ticket Price = 0\n"
     ]
    }
   ],
   "source": [
    "age = int(input('Enter your age: '))\n",
    "if 0<age<=5:\n",
    "    print('Ticket Price = 0')\n",
    "elif 5<age<=10:\n",
    "    print('Ticket Price = 100')\n",
    "elif 10<age<=30:\n",
    "    print('Ticket Price = 200')\n",
    "elif age>30:\n",
    "    print('Ticket Price = 300')\n",
    "else:\n",
    "    print('invalid error')"
   ]
  },
  {
   "cell_type": "code",
   "execution_count": 16,
   "metadata": {},
   "outputs": [
    {
     "name": "stdout",
     "output_type": "stream",
     "text": [
      "enter the name: python\n",
      "a is not present\n"
     ]
    }
   ],
   "source": [
    "# in keyword\n",
    "# \"in\" is used to check any character between given string\n",
    "\n",
    "name = input(\"enter the name: \")\n",
    "if 'a' in name:\n",
    "    print(\"a is present\")\n",
    "else:\n",
    "    print(\"a is not present\")"
   ]
  },
  {
   "cell_type": "code",
   "execution_count": 18,
   "metadata": {},
   "outputs": [
    {
     "name": "stdout",
     "output_type": "stream",
     "text": [
      "enter the name: \n",
      "you did not enter anything\n"
     ]
    }
   ],
   "source": [
    "name = input(\"enter the name: \")\n",
    "if name:\n",
    "    print(f\"your name is {name}\")\n",
    "else:\n",
    "    print(\"you did not enter anything\")"
   ]
  },
  {
   "cell_type": "markdown",
   "metadata": {},
   "source": [
    "# Day 6"
   ]
  },
  {
   "cell_type": "markdown",
   "metadata": {},
   "source": [
    "# Loops"
   ]
  },
  {
   "cell_type": "code",
   "execution_count": 1,
   "metadata": {},
   "outputs": [],
   "source": [
    "# Loop is used to execute specific code again and again\n",
    "# Programming languages has 2 loops,\n",
    "#     1: while loop\n",
    "#     2: for loop\n",
    "# “While loop” work can be done by “for loop” and vice versa\n",
    "# We have to initialise a variable to run while loop"
   ]
  },
  {
   "cell_type": "code",
   "execution_count": 3,
   "metadata": {},
   "outputs": [
    {
     "name": "stdout",
     "output_type": "stream",
     "text": [
      "1 Hellow\n",
      "2 Hellow\n",
      "3 Hellow\n",
      "4 Hellow\n",
      "5 Hellow\n",
      "6 Hellow\n",
      "7 Hellow\n",
      "8 Hellow\n",
      "9 Hellow\n",
      "10 Hellow\n"
     ]
    }
   ],
   "source": [
    "# For example: print Hellow 10 times\n",
    "i=1\n",
    "while i<=10:\n",
    "    print(f'{i} Hellow')\n",
    "    i += 1"
   ]
  },
  {
   "cell_type": "code",
   "execution_count": 4,
   "metadata": {},
   "outputs": [
    {
     "name": "stdout",
     "output_type": "stream",
     "text": [
      "1 Hellow\n",
      "2 Hellow\n",
      "3 Hellow\n",
      "4 Hellow\n",
      "5 Hellow\n",
      "6 Hellow\n",
      "7 Hellow\n",
      "8 Hellow\n",
      "9 Hellow\n",
      "10 Hellow\n"
     ]
    }
   ],
   "source": [
    "i=1\n",
    "while i<11:\n",
    "    print(f'{i} Hellow')\n",
    "    i += 1"
   ]
  },
  {
   "cell_type": "code",
   "execution_count": 5,
   "metadata": {},
   "outputs": [
    {
     "name": "stdout",
     "output_type": "stream",
     "text": [
      "0: Hellow\n",
      "1: Hellow\n",
      "2: Hellow\n",
      "3: Hellow\n",
      "4: Hellow\n",
      "5: Hellow\n",
      "6: Hellow\n",
      "7: Hellow\n",
      "8: Hellow\n",
      "9: Hellow\n"
     ]
    }
   ],
   "source": [
    "i=0\n",
    "while i<10:\n",
    "    print(f\"{i}: Hellow\")\n",
    "    i=i+1\n"
   ]
  },
  {
   "cell_type": "code",
   "execution_count": 1,
   "metadata": {},
   "outputs": [
    {
     "name": "stdout",
     "output_type": "stream",
     "text": [
      "1\n",
      "3\n",
      "6\n",
      "10\n",
      "15\n",
      "21\n",
      "28\n",
      "36\n",
      "45\n",
      "55\n",
      "55\n"
     ]
    }
   ],
   "source": [
    "# Sum 1 to 10 in one variable\n",
    "add = 0\n",
    "i = 1\n",
    "while i<=10:\n",
    "    add = add + i\n",
    "    print(add)\n",
    "    i += 1\n",
    "print(add)"
   ]
  },
  {
   "cell_type": "code",
   "execution_count": 3,
   "id": "016535fc",
   "metadata": {},
   "outputs": [
    {
     "name": "stdout",
     "output_type": "stream",
     "text": [
      "210\n"
     ]
    }
   ],
   "source": [
    "limit= int(input('enter the natural number you want to sum: '))\n",
    "add=0\n",
    "i=1\n",
    "while i<=limit:\n",
    "    add=add+i\n",
    "    # print(add)\n",
    "    i+=1\n",
    "print(add)"
   ]
  },
  {
   "cell_type": "code",
   "execution_count": 4,
   "metadata": {},
   "outputs": [
    {
     "name": "stdout",
     "output_type": "stream",
     "text": [
      "210\n"
     ]
    }
   ],
   "source": [
    "# Exercise\n",
    "\n",
    "# ask the user for limit of n natural numbers to sum\n",
    "# sum of n natural numbers\n",
    "# print total sum from 1 to n\n",
    "\n",
    "# Solution\n",
    "limit = int(input('Enter limit for sum: '))\n",
    "add = 0\n",
    "j = 1\n",
    "while j <= limit:\n",
    "    add += j\n",
    "    j += 1\n",
    "print(add)"
   ]
  },
  {
   "cell_type": "code",
   "execution_count": 32,
   "id": "227feb72",
   "metadata": {},
   "outputs": [
    {
     "name": "stdout",
     "output_type": "stream",
     "text": [
      "try agian! you enter one digit\n"
     ]
    }
   ],
   "source": [
    "greater_than_one_digit= input('enter the number greater than 1 digit:')\n",
    "\n",
    "add=0\n",
    "i=0\n",
    "while i < len(greater_than_one_digit):\n",
    "    if int(greater_than_one_digit) < 10:\n",
    "      print('try agian! you enter one digit')\n",
    "      break\n",
    "    add = add + int(greater_than_one_digit[i])\n",
    "    i+=1\n",
    "print(add)\n",
    "\n"
   ]
  },
  {
   "cell_type": "code",
   "execution_count": 15,
   "metadata": {},
   "outputs": [],
   "source": [
    "# Exercise\n",
    "\n",
    "# ask user to input a number containing more than one digit\n",
    "# forexample: 2357\n",
    "# calculate the sum of each character 2+3+5+7 and print the sum"
   ]
  },
  {
   "cell_type": "code",
   "execution_count": 17,
   "metadata": {},
   "outputs": [
    {
     "name": "stdout",
     "output_type": "stream",
     "text": [
      "input a number containing more than one digit2875\n",
      "22\n"
     ]
    }
   ],
   "source": [
    "number = input('input a number containing more than one digit')\n",
    "add = 0\n",
    "i = 0\n",
    "while i<len(number):\n",
    "    add += int(number[i])\n",
    "    i += 1\n",
    "print(add)"
   ]
  },
  {
   "cell_type": "markdown",
   "metadata": {},
   "source": [
    "# Day 7"
   ]
  },
  {
   "cell_type": "code",
   "execution_count": 1,
   "metadata": {},
   "outputs": [
    {
     "name": "stdout",
     "output_type": "stream",
     "text": [
      "Enter limit for sum: 4\n",
      "10\n"
     ]
    }
   ],
   "source": [
    "# Exercise\n",
    "\n",
    "# ask the user for limit of n natural numbers to sum\n",
    "# sum of n natural numbers\n",
    "# print total sum from 1 to n\n",
    "\n",
    "# Solution\n",
    "limit = int(input('Enter limit for sum: '))\n",
    "add = 0\n",
    "j = 1\n",
    "while j <= limit:\n",
    "    add += j\n",
    "    j += 1\n",
    "print(add)"
   ]
  },
  {
   "cell_type": "code",
   "execution_count": 56,
   "id": "5473d8d4",
   "metadata": {},
   "outputs": [
    {
     "name": "stdout",
     "output_type": "stream",
     "text": [
      "i : 1\n",
      "q : 1\n",
      "r : 2\n",
      "a : 1\n",
      "iqra\n"
     ]
    }
   ],
   "source": [
    "name= input('enter the name you want the count: ')\n",
    "temp=''\n",
    "i=0\n",
    "while i< len(name):\n",
    "    if name[i] not in temp:\n",
    "        temp += name[i]\n",
    "        print (f'{name [i]} : {name.count(name[i])}')\n",
    "    i+=1\n",
    "print(temp)\n",
    "    "
   ]
  },
  {
   "cell_type": "code",
   "execution_count": 2,
   "metadata": {},
   "outputs": [],
   "source": [
    "# Exercise\n",
    "\n",
    "# Ask a user for name\n",
    "    # Example: Jamshaid\n",
    "# Print count of each chracter\n",
    "    # h : 1, a:2, s:1, e:2, ……"
   ]
  },
  {
   "cell_type": "code",
   "execution_count": 7,
   "metadata": {},
   "outputs": [
    {
     "name": "stdout",
     "output_type": "stream",
     "text": [
      "Enter Your name: quaid-e-azam\n",
      "q : 1\n",
      "u : 1\n",
      "a : 3\n",
      "i : 1\n",
      "d : 1\n",
      "- : 2\n",
      "e : 1\n",
      "z : 1\n",
      "m : 1\n",
      "quaid-ezm\n"
     ]
    }
   ],
   "source": [
    "name = input('Enter Your name: ')\n",
    "temp = ''\n",
    "i=0\n",
    "while i<len(name):\n",
    "    if name[i] not in temp:\n",
    "        temp += name[i]\n",
    "        print(f'{name[i]} : {name.count(name[i])}')\n",
    "    i += 1"
   ]
  },
  {
   "cell_type": "code",
   "execution_count": 10,
   "metadata": {},
   "outputs": [
    {
     "name": "stdout",
     "output_type": "stream",
     "text": [
      "Enter Your name: quaid-e-azam\n",
      "q comes 1 times\n",
      "u comes 1 times\n",
      "a comes 3 times\n",
      "i comes 1 times\n",
      "d comes 1 times\n",
      "- comes 2 times\n",
      "e comes 1 times\n",
      "z comes 1 times\n",
      "m comes 1 times\n",
      "quaid-ezm\n"
     ]
    }
   ],
   "source": [
    "name = input('Enter Your name: ')\n",
    "temp = ''\n",
    "i=0\n",
    "while i<len(name):\n",
    "    if name[i] not in temp:\n",
    "        temp += name[i]\n",
    "        print(f'{name[i]} comes {name.count(name[i])} times')\n",
    "    i += 1\n",
    "print(temp)  "
   ]
  },
  {
   "cell_type": "code",
   "execution_count": null,
   "metadata": {},
   "outputs": [],
   "source": [
    "# infinite loop\n",
    "\n",
    "while True:\n",
    "    print(\"Hello world\")"
   ]
  },
  {
   "cell_type": "code",
   "execution_count": 10,
   "metadata": {},
   "outputs": [
    {
     "name": "stdout",
     "output_type": "stream",
     "text": [
      "1 : Hellow World\n",
      "2 : Hellow World\n",
      "3 : Hellow World\n",
      "4 : Hellow World\n",
      "5 : Hellow World\n",
      "6 : Hellow World\n",
      "7 : Hellow World\n",
      "8 : Hellow World\n",
      "9 : Hellow World\n",
      "10 : Hellow World\n"
     ]
    }
   ],
   "source": [
    "# for loop\n",
    "# For loop uses the range function\n",
    "\n",
    "for i in range(1,11):\n",
    "    print(f'{i} : Hellow World')"
   ]
  },
  {
   "cell_type": "code",
   "execution_count": 11,
   "metadata": {},
   "outputs": [
    {
     "name": "stdout",
     "output_type": "stream",
     "text": [
      "0 : Hellow World\n",
      "1 : Hellow World\n",
      "2 : Hellow World\n",
      "3 : Hellow World\n",
      "4 : Hellow World\n",
      "5 : Hellow World\n",
      "6 : Hellow World\n",
      "7 : Hellow World\n",
      "8 : Hellow World\n",
      "9 : Hellow World\n"
     ]
    }
   ],
   "source": [
    "for i in range(10):\n",
    "    print(f'{i} : Hellow World')"
   ]
  },
  {
   "cell_type": "code",
   "execution_count": 14,
   "metadata": {},
   "outputs": [
    {
     "name": "stdout",
     "output_type": "stream",
     "text": [
      "Q\n",
      "u\n",
      "a\n",
      "i\n",
      "d\n",
      "_\n",
      "e\n",
      "_\n",
      "A\n",
      "z\n",
      "a\n",
      "m\n"
     ]
    }
   ],
   "source": [
    "for i in 'Quaid_e_Azam':\n",
    "    print(i)"
   ]
  },
  {
   "cell_type": "code",
   "execution_count": 75,
   "id": "31dd8f12",
   "metadata": {},
   "outputs": [
    {
     "name": "stdout",
     "output_type": "stream",
     "text": [
      "55\n"
     ]
    }
   ],
   "source": [
    "num= int (input('enter a number: '))\n",
    "sum=0\n",
    "for i in range(1,num+1):\n",
    "    sum=sum+i\n",
    "    # print(f' {i} + {num} = : ',sum) \n",
    "\n",
    "print(sum)\n",
    "    "
   ]
  },
  {
   "cell_type": "code",
   "execution_count": 1,
   "metadata": {},
   "outputs": [],
   "source": [
    "# Exercise\n",
    "\n",
    "# Ask from user a natural number\n",
    "# and do sum till that number using for loop\n",
    "#     1+2+3+......"
   ]
  },
  {
   "cell_type": "code",
   "execution_count": 65,
   "metadata": {},
   "outputs": [
    {
     "name": "stdout",
     "output_type": "stream",
     "text": [
      "55\n"
     ]
    }
   ],
   "source": [
    "# solution\n",
    "natural_number=int(input(\"Enter any natural number: \"))\n",
    "add = 0\n",
    "for i in range(1,natural_number+1):\n",
    "    add+=i\n",
    "print(add)"
   ]
  },
  {
   "cell_type": "code",
   "execution_count": 4,
   "metadata": {},
   "outputs": [
    {
     "name": "stdout",
     "output_type": "stream",
     "text": [
      "0\n",
      "1\n",
      "2\n",
      "3\n",
      "4\n"
     ]
    }
   ],
   "source": [
    "## Break\n",
    "# break keyword is used to break the loop\n",
    "for i in range(11):\n",
    "    if i==5:\n",
    "        break  #force loop to stop at 5\n",
    "    print(i)"
   ]
  },
  {
   "cell_type": "code",
   "execution_count": 5,
   "metadata": {},
   "outputs": [
    {
     "name": "stdout",
     "output_type": "stream",
     "text": [
      "0\n",
      "1\n",
      "2\n",
      "3\n",
      "4\n",
      "6\n",
      "7\n",
      "8\n",
      "9\n",
      "10\n"
     ]
    }
   ],
   "source": [
    "## Continue\n",
    "# It is use to skip the remaining steps of loop and jump back to start of loop\n",
    "for i in range(11):\n",
    "    if i==5:\n",
    "        continue          #skip 5 to print and jump back\n",
    "    print(i)"
   ]
  },
  {
   "cell_type": "code",
   "execution_count": 6,
   "metadata": {},
   "outputs": [],
   "source": [
    "## Random Number Generator\n",
    "# To generate random number in Python, randint() function is used.\n",
    "# This function is defined in random module."
   ]
  },
  {
   "cell_type": "code",
   "execution_count": 77,
   "metadata": {},
   "outputs": [
    {
     "name": "stdout",
     "output_type": "stream",
     "text": [
      "0\n"
     ]
    }
   ],
   "source": [
    "# Program to generate a random number between 0 and 9\n",
    "\n",
    "# importing the random module\n",
    "import random\n",
    "\n",
    "# integer random numbers in specific range\n",
    "print(random.randint(0,9))"
   ]
  },
  {
   "cell_type": "code",
   "execution_count": 62,
   "metadata": {},
   "outputs": [
    {
     "name": "stdout",
     "output_type": "stream",
     "text": [
      "0.17065718482149683\n"
     ]
    }
   ],
   "source": [
    "# random number between 0 and 1\n",
    "print(random.random())"
   ]
  },
  {
   "cell_type": "code",
   "execution_count": 97,
   "metadata": {},
   "outputs": [
    {
     "name": "stdout",
     "output_type": "stream",
     "text": [
      "0.32383276483316237\n"
     ]
    }
   ],
   "source": [
    "## seed function\n",
    "# used to fix random numbers\n",
    "random.seed(7)\n",
    "print(random.random())"
   ]
  },
  {
   "cell_type": "code",
   "execution_count": 99,
   "metadata": {},
   "outputs": [
    {
     "name": "stdout",
     "output_type": "stream",
     "text": [
      "1\n",
      "2\n",
      "3\n",
      "4\n",
      "5\n",
      "6\n",
      "7\n",
      "8\n",
      "9\n",
      "10\n"
     ]
    }
   ],
   "source": [
    "for i in range (1,11):\n",
    "    print(i)"
   ]
  },
  {
   "cell_type": "code",
   "execution_count": 70,
   "metadata": {},
   "outputs": [
    {
     "name": "stdout",
     "output_type": "stream",
     "text": [
      "10\n",
      "9\n",
      "8\n",
      "7\n",
      "6\n",
      "5\n",
      "4\n",
      "3\n",
      "2\n",
      "1\n"
     ]
    }
   ],
   "source": [
    "# Step argument in range function\n",
    "# print 10 to 1 in back order\n",
    "\n",
    "for i in (range(10,0,-1)):\n",
    "    print(i)"
   ]
  },
  {
   "cell_type": "code",
   "execution_count": 72,
   "metadata": {},
   "outputs": [
    {
     "name": "stdout",
     "output_type": "stream",
     "text": [
      "Q\n",
      "u\n",
      "a\n",
      "i\n",
      "d\n",
      "_\n",
      "e\n",
      "_\n",
      "A\n",
      "z\n",
      "a\n",
      "m\n"
     ]
    }
   ],
   "source": [
    "## For loop with string \n",
    "\n",
    "# In some programs, In “for” loop we can use string or variable instead of range function\n",
    "# This facility is only for python language\n",
    "\n",
    "for i in 'Quaid_e_Azam':\n",
    "    print(i)"
   ]
  },
  {
   "cell_type": "code",
   "execution_count": 110,
   "id": "212b8ea9",
   "metadata": {},
   "outputs": [
    {
     "name": "stdout",
     "output_type": "stream",
     "text": [
      "the number you enter is :  123\n",
      "the sum of 123 is :  6\n"
     ]
    }
   ],
   "source": [
    "number= input('enter a number more than one digit: ')\n",
    "sum=0\n",
    "i=0\n",
    "while i < len(number):\n",
    "    sum=sum+ int(number[i])\n",
    "    i+=1\n",
    "print('the number you enter is : ',number)\n",
    "print(f'the sum of {number} is : ',sum)\n"
   ]
  },
  {
   "cell_type": "code",
   "execution_count": 113,
   "id": "aa36b91a",
   "metadata": {},
   "outputs": [
    {
     "name": "stdout",
     "output_type": "stream",
     "text": [
      "the number you enter is :  659\n",
      "the sum of 659 is :  20\n"
     ]
    }
   ],
   "source": [
    "number= input('enter a number more than one digit: ')\n",
    "sum=0\n",
    "i=0\n",
    "for i in range (len(number)):\n",
    "    sum=sum+ int(number[i])\n",
    "print('the number you enter is : ',number)\n",
    "print(f'the sum of {number} is : ',sum)"
   ]
  },
  {
   "cell_type": "code",
   "execution_count": 73,
   "metadata": {},
   "outputs": [
    {
     "name": "stdout",
     "output_type": "stream",
     "text": [
      "input a number containing more than one digit2345\n",
      "14\n"
     ]
    }
   ],
   "source": [
    "## Program\n",
    "# ask user to input a number containing more than one digit\n",
    "# example – 2357\n",
    "# calculate the sum of each character 2+3+5+7 and print the sum\n",
    "\n",
    "## Solution\n",
    "number = input('input a number containing more than one digit')\n",
    "add = 0\n",
    "i = 0\n",
    "while i<len(number):\n",
    "    add += int(number[i])\n",
    "    i += 1\n",
    "print(add)"
   ]
  },
  {
   "cell_type": "code",
   "execution_count": 76,
   "metadata": {},
   "outputs": [
    {
     "name": "stdout",
     "output_type": "stream",
     "text": [
      "input a number containing more than one digit: 659\n",
      "20\n"
     ]
    }
   ],
   "source": [
    "## Program\n",
    "# ask user to input a number containing more than one digit\n",
    "# example – 2357\n",
    "# calculate the sum of each character 2+3+5+7 and print the sum using for loop\n",
    "\n",
    "## solution\n",
    "number = input('input a number containing more than one digit: ')\n",
    "add = 0\n",
    "for i in number:\n",
    "    add += int(i)\n",
    "print(add)"
   ]
  },
  {
   "cell_type": "code",
   "execution_count": 129,
   "id": "72027326",
   "metadata": {},
   "outputs": [
    {
     "name": "stdout",
     "output_type": "stream",
     "text": [
      "you enter lower!\n",
      "you enter lower!\n",
      "you enter lower!\n",
      "You Loss..!\n",
      "Try Again\n"
     ]
    }
   ],
   "source": [
    "import random\n",
    "winning_number= random.randint(1,50)\n",
    "guess_number= int(input('enter a number between 1 to 50'))\n",
    "for i in range(1,11):\n",
    "    if guess_number== winning_number:\n",
    "      print(f'you win in {i} tries')\n",
    "      break\n",
    "    elif guess_number < winning_number:\n",
    "        print('you enter lower!')\n",
    "    elif guess_number > winning_number:\n",
    "        print('you enter high!')\n",
    "    if i==10:\n",
    "        print('You Loss..!')\n",
    "        print('Try Again')\n",
    "        break\n",
    "    guess_number=int(input(\"guess again:\"))"
   ]
  },
  {
   "cell_type": "code",
   "execution_count": 1,
   "metadata": {},
   "outputs": [],
   "source": [
    "## Exercise\n",
    "# Guess number game\n",
    "\n",
    "# Make a variable like 'winning_number' and \n",
    "    # by using random generator assign a number between (1 to 50) to it\n",
    "# Make a variable 'guess_number' and\n",
    "    # Ask user to guess that random number between (1 to 50)\n",
    "# If user guess correctly then print 'you win!!' and amount of total 'tries'\n",
    "# If user doesn’t guess correctly then:\n",
    "    # If user guess lower than actual number then print 'Its lower!!'\n",
    "    # If user guess greater than actual number then print 'It’s greater!!'\n",
    "# user will have 10 tries to guess the correct number\n",
    "# In the case of wrong try, program will again ask to user for guess number through loop"
   ]
  },
  {
   "cell_type": "code",
   "execution_count": 126,
   "metadata": {},
   "outputs": [
    {
     "name": "stdout",
     "output_type": "stream",
     "text": [
      "High\n",
      "High\n",
      "High\n",
      "High\n",
      "you win in 5 tries\n"
     ]
    }
   ],
   "source": [
    "## Solution\n",
    "\n",
    "import random\n",
    "wining_number = random.randint(1,50)\n",
    "guess_number=int(input(\"Enter number between 1 to 50 to guess: \"))\n",
    "for i in range(1,11):\n",
    "    if guess_number==wining_number:\n",
    "        print(f'you win in {i} tries')\n",
    "        break\n",
    "    elif guess_number<wining_number:\n",
    "        print('low')\n",
    "    elif guess_number>wining_number:\n",
    "        print('High')\n",
    "    guess_number=int(input(\"guess again: \"))"
   ]
  },
  {
   "cell_type": "code",
   "execution_count": 5,
   "metadata": {},
   "outputs": [
    {
     "name": "stdout",
     "output_type": "stream",
     "text": [
      "Enter number between 1 to 50 to guess: 1\n",
      "1\n",
      "low\n",
      "guess again: 1\n",
      "2\n",
      "low\n",
      "guess again: 1\n",
      "3\n",
      "low\n",
      "guess again: 1\n",
      "4\n",
      "low\n",
      "guess again: 1\n",
      "5\n",
      "low\n",
      "guess again: 1\n",
      "6\n",
      "low\n",
      "guess again: 1\n",
      "7\n",
      "low\n",
      "guess again: 1\n",
      "8\n",
      "low\n",
      "guess again: 1\n",
      "9\n",
      "low\n",
      "guess again: 1\n",
      "10\n",
      "low\n",
      "You Loss..!\n",
      "Try Again\n"
     ]
    }
   ],
   "source": [
    "import random\n",
    "wining_number = random.randint(1,50)\n",
    "guess_number=int(input(\"Enter number between 1 to 50 to guess: \"))\n",
    "for i in range(1,11):\n",
    "    print(i)\n",
    "    if guess_number==wining_number:\n",
    "        print(f'you win in {i} tries')\n",
    "        break\n",
    "    elif guess_number<wining_number:\n",
    "        print('low')\n",
    "    elif guess_number>wining_number:\n",
    "        print('High')\n",
    "    if i==10:\n",
    "        print('You Loss..!')\n",
    "        print('Try Again')\n",
    "        break\n",
    "    guess_number=int(input(\"guess again: \"))"
   ]
  },
  {
   "cell_type": "code",
   "execution_count": 2,
   "metadata": {},
   "outputs": [
    {
     "name": "stdout",
     "output_type": "stream",
     "text": [
      "0\n",
      "1\n",
      "2\n",
      "3\n",
      "4\n",
      "Task Completed\n"
     ]
    }
   ],
   "source": [
    "for i in range(5):\n",
    "    print(i)\n",
    "else:\n",
    "    print('Task Completed')"
   ]
  },
  {
   "cell_type": "code",
   "execution_count": 4,
   "metadata": {},
   "outputs": [
    {
     "name": "stdout",
     "output_type": "stream",
     "text": [
      "-10\n",
      "-9\n",
      "-8\n",
      "-7\n",
      "-6\n",
      "-5\n",
      "-4\n",
      "-3\n",
      "-2\n",
      "-1\n"
     ]
    }
   ],
   "source": [
    "## Exercise\n",
    "\n",
    "# Display numbers from -10 to -1 using for loop\n",
    "\n",
    "for num in range(-10, 0):\n",
    "    print(num)"
   ]
  },
  {
   "cell_type": "code",
   "execution_count": 5,
   "metadata": {},
   "outputs": [
    {
     "name": "stdout",
     "output_type": "stream",
     "text": [
      "10\n",
      "9\n",
      "8\n",
      "7\n",
      "6\n",
      "5\n",
      "4\n",
      "3\n",
      "2\n"
     ]
    }
   ],
   "source": [
    "for num in range(10,1,-1):\n",
    "    print(num)"
   ]
  },
  {
   "cell_type": "code",
   "execution_count": 6,
   "metadata": {},
   "outputs": [],
   "source": [
    "## Exercise\n",
    "\n",
    "# ask from user a natural number\n",
    "# and show square of numbers till that natural number using for loop"
   ]
  },
  {
   "cell_type": "code",
   "execution_count": 12,
   "metadata": {},
   "outputs": [
    {
     "name": "stdout",
     "output_type": "stream",
     "text": [
      "Enter any natural number: 7\n",
      "1\n",
      "4\n",
      "9\n",
      "16\n",
      "25\n",
      "36\n",
      "49\n"
     ]
    }
   ],
   "source": [
    "## Solution 1\n",
    "\n",
    "natural_number=int(input(\"Enter any natural number: \"))\n",
    "square = 1\n",
    "for i in range(1,natural_number+1):\n",
    "    square = i**2\n",
    "    print(square)"
   ]
  },
  {
   "cell_type": "code",
   "execution_count": 9,
   "metadata": {},
   "outputs": [
    {
     "name": "stdout",
     "output_type": "stream",
     "text": [
      "150\n"
     ]
    }
   ],
   "source": [
    "print(452//3)"
   ]
  },
  {
   "cell_type": "code",
   "execution_count": 11,
   "metadata": {},
   "outputs": [
    {
     "name": "stdout",
     "output_type": "stream",
     "text": [
      "1\n"
     ]
    }
   ],
   "source": [
    "print(11%2)"
   ]
  },
  {
   "cell_type": "code",
   "execution_count": 13,
   "metadata": {},
   "outputs": [
    {
     "name": "stdout",
     "output_type": "stream",
     "text": [
      "Enter any natural number: 4\n",
      "1\n",
      "4\n",
      "9\n",
      "16\n"
     ]
    }
   ],
   "source": [
    "## Solution 2\n",
    "\n",
    "natural_number=int(input(\"Enter any natural number: \"))\n",
    "for i in range(1,natural_number+1):\n",
    "    square = i**2\n",
    "    print(square)"
   ]
  },
  {
   "cell_type": "code",
   "execution_count": 15,
   "metadata": {},
   "outputs": [
    {
     "name": "stdout",
     "output_type": "stream",
     "text": [
      "Enter any natural number: 4\n",
      "1\n",
      "4\n",
      "9\n",
      "16\n"
     ]
    }
   ],
   "source": [
    "## Solution 3\n",
    "\n",
    "natural_number=int(input(\"Enter any natural number: \"))\n",
    "for i in range(1,natural_number+1):\n",
    "    i *= i\n",
    "    print(i)"
   ]
  },
  {
   "cell_type": "code",
   "execution_count": 17,
   "metadata": {},
   "outputs": [
    {
     "name": "stdout",
     "output_type": "stream",
     "text": [
      "Enter any natural number: 4\n",
      "1\n",
      "4\n",
      "9\n",
      "16\n"
     ]
    }
   ],
   "source": [
    "## Solution 4\n",
    "\n",
    "exponent = 2\n",
    "natural_number=int(input(\"Enter any natural number: \"))\n",
    "for i in range(1,natural_number+1):\n",
    "    output = pow(i,exponent)\n",
    "    print(output)"
   ]
  },
  {
   "cell_type": "code",
   "execution_count": 18,
   "metadata": {},
   "outputs": [
    {
     "name": "stdout",
     "output_type": "stream",
     "text": [
      "Enter any natural number: 4\n",
      "1\n",
      "4\n",
      "9\n",
      "16\n"
     ]
    }
   ],
   "source": [
    "## Solution 5\n",
    "\n",
    "natural_number=int(input(\"Enter any natural number: \"))\n",
    "for i in range(1,natural_number+1):\n",
    "    output = pow(i,2)\n",
    "    print(output)"
   ]
  },
  {
   "cell_type": "code",
   "execution_count": 19,
   "metadata": {
    "scrolled": true
   },
   "outputs": [
    {
     "name": "stdout",
     "output_type": "stream",
     "text": [
      "Enter any natural number: 4\n",
      "1\n",
      "4\n",
      "9\n",
      "16\n"
     ]
    }
   ],
   "source": [
    "## Solution 6\n",
    "\n",
    "natural_number=int(input(\"Enter any natural number: \"))\n",
    "for i in range(1,natural_number+1):\n",
    "    print(pow(i,2))"
   ]
  },
  {
   "cell_type": "markdown",
   "metadata": {},
   "source": [
    "### Functions"
   ]
  },
  {
   "cell_type": "code",
   "execution_count": 20,
   "metadata": {},
   "outputs": [],
   "source": [
    "# Their are two types of functions\n",
    "    # 1: Built-in Functions\n",
    "    # 2: User-define Functions\n",
    "\n",
    "# Built-in functions are those that are already defined in Language \n",
    "# and we can call them directly.\n",
    "    # Like in python, a function is “len”,\n",
    "    # this function is defined in background by developers\n",
    "\n",
    "# User defined functions are those that we define ourselves in our program \n",
    "# and then call them wherever we want.\n",
    "\n",
    "# We write functions to avoid lengthy code again and again\n",
    "\n",
    "# To define a function, we use “def” Keyword and then \n",
    "    # write the name of function with brackets()"
   ]
  },
  {
   "cell_type": "code",
   "execution_count": 21,
   "metadata": {},
   "outputs": [
    {
     "name": "stdout",
     "output_type": "stream",
     "text": [
      "Enter first num: 3\n",
      "Enter Second num: 4\n",
      "7\n"
     ]
    }
   ],
   "source": [
    "## Let we define a function to add Two numbers\n",
    "\n",
    "def add(x,y):\n",
    "    return x+y\n",
    "\n",
    "num_1 = int(input('Enter first num: '))\n",
    "num_2 = int(input('Enter Second num: '))\n",
    "output = add(num_1,num_2)\n",
    "print(output)"
   ]
  },
  {
   "cell_type": "code",
   "execution_count": 22,
   "metadata": {},
   "outputs": [
    {
     "name": "stdout",
     "output_type": "stream",
     "text": [
      "Enter first num: 3\n",
      "Enter Second num: 4\n",
      "7\n"
     ]
    }
   ],
   "source": [
    "def add(x,y):\n",
    "    return x+y\n",
    "\n",
    "num_1 = int(input('Enter first num: '))\n",
    "num_2 = int(input('Enter Second num: '))\n",
    "print(add(num_1,num_2))"
   ]
  },
  {
   "cell_type": "code",
   "execution_count": 23,
   "metadata": {
    "scrolled": true
   },
   "outputs": [
    {
     "name": "stdout",
     "output_type": "stream",
     "text": [
      "Enter first num: 3\n",
      "Enter Second num: 4\n",
      "7\n"
     ]
    }
   ],
   "source": [
    "def add(x,y):\n",
    "    print(x+y)\n",
    "\n",
    "num_1 = int(input('Enter first num: '))\n",
    "num_2 = int(input('Enter Second num: '))\n",
    "add(num_1,num_2)"
   ]
  },
  {
   "cell_type": "code",
   "execution_count": 1,
   "metadata": {},
   "outputs": [
    {
     "name": "stdout",
     "output_type": "stream",
     "text": [
      "Enter first num: 3\n",
      "Enter Second num: 7\n",
      "3 + 7 = 10\n"
     ]
    }
   ],
   "source": [
    "def add():\n",
    "    num_1 = int(input('Enter first num: '))\n",
    "    num_2 = int(input('Enter Second num: '))\n",
    "    print(f'{num_1} + {num_2} = {num_1 + num_2}')\n",
    "\n",
    "add()"
   ]
  },
  {
   "cell_type": "code",
   "execution_count": 2,
   "metadata": {},
   "outputs": [
    {
     "name": "stdout",
     "output_type": "stream",
     "text": [
      "Happy Birthday To You\n"
     ]
    }
   ],
   "source": [
    "## we can also defined the function that does not take the parameters and arguments\n",
    "\n",
    "def song():\n",
    "    return \"Happy Birthday To You\"\n",
    "\n",
    "print(song())"
   ]
  },
  {
   "cell_type": "markdown",
   "metadata": {},
   "source": [
    "# Day 13"
   ]
  },
  {
   "cell_type": "code",
   "execution_count": 132,
   "metadata": {},
   "outputs": [
    {
     "name": "stdout",
     "output_type": "stream",
     "text": [
      " the mixum number in 32 and 43 is: 43\n"
     ]
    }
   ],
   "source": [
    "## Exercise\n",
    "# define a function which takes two numbers as input and\n",
    "# return greater of two numbers\n",
    "greater()"
   ]
  },
  {
   "cell_type": "code",
   "execution_count": 131,
   "id": "036514a5",
   "metadata": {},
   "outputs": [
    {
     "name": "stdout",
     "output_type": "stream",
     "text": [
      " the mixum number in 23 and 43 is: 43\n"
     ]
    }
   ],
   "source": [
    "def greater():\n",
    "    num1= int(input('enter first Number: '))\n",
    "    num2= int(input('enter second number: '))\n",
    "    if num1 > num2:\n",
    "        print(f' the mixum number in {num1} and {num2} is:', num1)\n",
    "    else:\n",
    "        print(f' the mixum number in {num1} and {num2} is:', num2)\n",
    "\n",
    "greater()"
   ]
  },
  {
   "cell_type": "code",
   "execution_count": 2,
   "metadata": {},
   "outputs": [
    {
     "name": "stdout",
     "output_type": "stream",
     "text": [
      "Enter first numnber: 11\n",
      "Enter second numnber: 34\n",
      "number_2: 34 is Greater number\n"
     ]
    }
   ],
   "source": [
    "def greater(x,y):\n",
    "    if x>y:\n",
    "        return \"number_1: \"+str(x)\n",
    "    elif y>x:\n",
    "        return \"number_2: \"+str(y)\n",
    "    else:\n",
    "        print('undefined')\n",
    "\n",
    "num1=int(input(\"Enter first numnber: \"))\n",
    "num2=int(input(\"Enter second numnber: \"))\n",
    "print(f\"{greater(num1,num2)} is Greater number\")"
   ]
  },
  {
   "cell_type": "code",
   "execution_count": 3,
   "metadata": {},
   "outputs": [
    {
     "name": "stdout",
     "output_type": "stream",
     "text": [
      "Enter first numnber: 23\n",
      "Enter second numnber: 11\n",
      "number_1: 23 is Greater number\n"
     ]
    }
   ],
   "source": [
    "## Solution 2\n",
    "\n",
    "def greater():\n",
    "    num1=int(input(\"Enter first numnber: \"))\n",
    "    num2=int(input(\"Enter second numnber: \"))\n",
    "    if num1>num2:\n",
    "        return f\"number_1: {num1}\"\n",
    "    elif num2>num1:\n",
    "        return f\"number_2: {num2}\"\n",
    "    else:\n",
    "        return \"Undefined\"\n",
    "\n",
    "\n",
    "print(f\"{greater()} is Greater number\")"
   ]
  },
  {
   "cell_type": "code",
   "execution_count": 4,
   "metadata": {},
   "outputs": [
    {
     "name": "stdout",
     "output_type": "stream",
     "text": [
      "Enter first numnber: 23\n",
      "Enter second numnber: 11\n",
      "23 is Greater number\n"
     ]
    }
   ],
   "source": [
    "## Solution 3\n",
    "\n",
    "def greater():\n",
    "    num1=int(input(\"Enter first numnber: \"))\n",
    "    num2=int(input(\"Enter second numnber: \"))\n",
    "    return max(num1,num2)\n",
    "\n",
    "\n",
    "print(f\"{greater()} is Greater number\")"
   ]
  },
  {
   "cell_type": "code",
   "execution_count": 5,
   "metadata": {},
   "outputs": [],
   "source": [
    "## Exercise\n",
    "\n",
    "# Define “is_palindrom” function that takes one word in string as input,\n",
    "#     Palindrom is a word that reads same backward as forward\n",
    "#         Aha, madam, pullup, repaper, mom, dad, radar, civic\n",
    "# And return true if it is palindrom,\n",
    "# Else return false"
   ]
  },
  {
   "cell_type": "code",
   "execution_count": 7,
   "metadata": {},
   "outputs": [
    {
     "name": "stdout",
     "output_type": "stream",
     "text": [
      "Enter a palindrom: ali\n",
      "Given word is not a palindrom\n"
     ]
    }
   ],
   "source": [
    "## Solution 1\n",
    "\n",
    "def is_palindrom():\n",
    "    word=input(\"Enter a palindrom: \")\n",
    "    word = word.lower()\n",
    "    if word==word[::-1]:\n",
    "        return \"Given word is palindrom\"\n",
    "    return \"Given word is not a palindrom\"\n",
    "\n",
    "\n",
    "print(is_palindrom())"
   ]
  },
  {
   "cell_type": "code",
   "execution_count": 8,
   "metadata": {},
   "outputs": [
    {
     "name": "stdout",
     "output_type": "stream",
     "text": [
      "Enter a palindrom: repaper\n",
      "Given word is palindrom\n"
     ]
    }
   ],
   "source": [
    "## Solution 2\n",
    "\n",
    "def is_palindrom():\n",
    "    word=input(\"Enter a palindrom: \").lower()\n",
    "    if word==word[::-1]:\n",
    "        return \"Given word is palindrom\"\n",
    "    return \"Given word is not a palindrom\"\n",
    "\n",
    "\n",
    "print(is_palindrom())"
   ]
  },
  {
   "cell_type": "code",
   "execution_count": 10,
   "metadata": {},
   "outputs": [
    {
     "name": "stdout",
     "output_type": "stream",
     "text": [
      "Enter a palindrom: aha\n",
      "True\n"
     ]
    }
   ],
   "source": [
    "def is_palindrom():\n",
    "    word=input(\"Enter a palindrom: \").lower()\n",
    "    return word==word[::-1]\n",
    "\n",
    "print(is_palindrom())"
   ]
  },
  {
   "cell_type": "code",
   "execution_count": null,
   "metadata": {},
   "outputs": [],
   "source": []
  }
 ],
 "metadata": {
  "kernelspec": {
   "display_name": "Python 3",
   "language": "python",
   "name": "python3"
  },
  "language_info": {
   "codemirror_mode": {
    "name": "ipython",
    "version": 3
   },
   "file_extension": ".py",
   "mimetype": "text/x-python",
   "name": "python",
   "nbconvert_exporter": "python",
   "pygments_lexer": "ipython3",
   "version": "3.7.3"
  }
 },
 "nbformat": 4,
 "nbformat_minor": 5
}
