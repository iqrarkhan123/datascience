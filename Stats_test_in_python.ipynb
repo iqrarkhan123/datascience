{
 "cells": [
  {
   "cell_type": "markdown",
   "metadata": {},
   "source": [
    "# 1. Shapiro wilk test\n",
    "test whether or not a data sample has a guassian distribution (normal bil curve )\n",
    "## Assumption\n",
    "1. observation in each sample are independent and identicaly distributed\n",
    "2. interpretation\n",
    "- H0 / null hypothesis: the sample has a gussian/normal distribution\n",
    "- H1 / Alternate hypothesis: the sample does not has a gussian/normal distribution"
   ]
  },
  {
   "cell_type": "code",
   "execution_count": 57,
   "metadata": {},
   "outputs": [
    {
     "name": "stdout",
     "output_type": "stream",
     "text": [
      "stats=0.895,p=0.193\n",
      "probably guassian\n"
     ]
    }
   ],
   "source": [
    "from scipy.stats import shapiro\n",
    "data=[0.873,2.817,0.121,-0.945,-0.055,-1.436,0.360,-1.478,-1.637,-1.869]\n",
    "stat, p=shapiro(data)\n",
    "print(\"stats=%.3f,p=%.3f\" %(stat,p)) \n",
    "if p>0.05:\n",
    "    print(\"probably guassian\")\n",
    "else:\n",
    "    print(\"probably not guassian\")\n"
   ]
  },
  {
   "cell_type": "code",
   "execution_count": 58,
   "metadata": {},
   "outputs": [],
   "source": [
    "import pandas as pd\n",
    "import numpy as np\n",
    "import seaborn as sns\n",
    "import matplotlib.pyplot as plt"
   ]
  },
  {
   "cell_type": "code",
   "execution_count": 59,
   "metadata": {},
   "outputs": [],
   "source": [
    "data=sns.load_dataset(\"titanic\")"
   ]
  },
  {
   "cell_type": "code",
   "execution_count": 60,
   "metadata": {},
   "outputs": [
    {
     "data": {
      "text/plain": [
       "Index(['survived', 'pclass', 'sex', 'age', 'sibsp', 'parch', 'fare',\n",
       "       'embarked', 'class', 'who', 'adult_male', 'deck', 'embark_town',\n",
       "       'alive', 'alone'],\n",
       "      dtype='object')"
      ]
     },
     "execution_count": 60,
     "metadata": {},
     "output_type": "execute_result"
    }
   ],
   "source": [
    "data.columns"
   ]
  },
  {
   "cell_type": "code",
   "execution_count": 61,
   "metadata": {},
   "outputs": [
    {
     "data": {
      "text/html": [
       "<div>\n",
       "<style scoped>\n",
       "    .dataframe tbody tr th:only-of-type {\n",
       "        vertical-align: middle;\n",
       "    }\n",
       "\n",
       "    .dataframe tbody tr th {\n",
       "        vertical-align: top;\n",
       "    }\n",
       "\n",
       "    .dataframe thead th {\n",
       "        text-align: right;\n",
       "    }\n",
       "</style>\n",
       "<table border=\"1\" class=\"dataframe\">\n",
       "  <thead>\n",
       "    <tr style=\"text-align: right;\">\n",
       "      <th></th>\n",
       "      <th>survived</th>\n",
       "      <th>pclass</th>\n",
       "      <th>sex</th>\n",
       "      <th>age</th>\n",
       "      <th>sibsp</th>\n",
       "      <th>parch</th>\n",
       "      <th>fare</th>\n",
       "      <th>embarked</th>\n",
       "      <th>class</th>\n",
       "      <th>who</th>\n",
       "      <th>adult_male</th>\n",
       "      <th>deck</th>\n",
       "      <th>embark_town</th>\n",
       "      <th>alive</th>\n",
       "      <th>alone</th>\n",
       "    </tr>\n",
       "  </thead>\n",
       "  <tbody>\n",
       "    <tr>\n",
       "      <th>0</th>\n",
       "      <td>0</td>\n",
       "      <td>3</td>\n",
       "      <td>male</td>\n",
       "      <td>22.0</td>\n",
       "      <td>1</td>\n",
       "      <td>0</td>\n",
       "      <td>7.2500</td>\n",
       "      <td>S</td>\n",
       "      <td>Third</td>\n",
       "      <td>man</td>\n",
       "      <td>True</td>\n",
       "      <td>NaN</td>\n",
       "      <td>Southampton</td>\n",
       "      <td>no</td>\n",
       "      <td>False</td>\n",
       "    </tr>\n",
       "    <tr>\n",
       "      <th>1</th>\n",
       "      <td>1</td>\n",
       "      <td>1</td>\n",
       "      <td>female</td>\n",
       "      <td>38.0</td>\n",
       "      <td>1</td>\n",
       "      <td>0</td>\n",
       "      <td>71.2833</td>\n",
       "      <td>C</td>\n",
       "      <td>First</td>\n",
       "      <td>woman</td>\n",
       "      <td>False</td>\n",
       "      <td>C</td>\n",
       "      <td>Cherbourg</td>\n",
       "      <td>yes</td>\n",
       "      <td>False</td>\n",
       "    </tr>\n",
       "    <tr>\n",
       "      <th>2</th>\n",
       "      <td>1</td>\n",
       "      <td>3</td>\n",
       "      <td>female</td>\n",
       "      <td>26.0</td>\n",
       "      <td>0</td>\n",
       "      <td>0</td>\n",
       "      <td>7.9250</td>\n",
       "      <td>S</td>\n",
       "      <td>Third</td>\n",
       "      <td>woman</td>\n",
       "      <td>False</td>\n",
       "      <td>NaN</td>\n",
       "      <td>Southampton</td>\n",
       "      <td>yes</td>\n",
       "      <td>True</td>\n",
       "    </tr>\n",
       "    <tr>\n",
       "      <th>3</th>\n",
       "      <td>1</td>\n",
       "      <td>1</td>\n",
       "      <td>female</td>\n",
       "      <td>35.0</td>\n",
       "      <td>1</td>\n",
       "      <td>0</td>\n",
       "      <td>53.1000</td>\n",
       "      <td>S</td>\n",
       "      <td>First</td>\n",
       "      <td>woman</td>\n",
       "      <td>False</td>\n",
       "      <td>C</td>\n",
       "      <td>Southampton</td>\n",
       "      <td>yes</td>\n",
       "      <td>False</td>\n",
       "    </tr>\n",
       "    <tr>\n",
       "      <th>4</th>\n",
       "      <td>0</td>\n",
       "      <td>3</td>\n",
       "      <td>male</td>\n",
       "      <td>35.0</td>\n",
       "      <td>0</td>\n",
       "      <td>0</td>\n",
       "      <td>8.0500</td>\n",
       "      <td>S</td>\n",
       "      <td>Third</td>\n",
       "      <td>man</td>\n",
       "      <td>True</td>\n",
       "      <td>NaN</td>\n",
       "      <td>Southampton</td>\n",
       "      <td>no</td>\n",
       "      <td>True</td>\n",
       "    </tr>\n",
       "  </tbody>\n",
       "</table>\n",
       "</div>"
      ],
      "text/plain": [
       "   survived  pclass     sex   age  sibsp  parch     fare embarked  class  \\\n",
       "0         0       3    male  22.0      1      0   7.2500        S  Third   \n",
       "1         1       1  female  38.0      1      0  71.2833        C  First   \n",
       "2         1       3  female  26.0      0      0   7.9250        S  Third   \n",
       "3         1       1  female  35.0      1      0  53.1000        S  First   \n",
       "4         0       3    male  35.0      0      0   8.0500        S  Third   \n",
       "\n",
       "     who  adult_male deck  embark_town alive  alone  \n",
       "0    man        True  NaN  Southampton    no  False  \n",
       "1  woman       False    C    Cherbourg   yes  False  \n",
       "2  woman       False  NaN  Southampton   yes   True  \n",
       "3  woman       False    C  Southampton   yes  False  \n",
       "4    man        True  NaN  Southampton    no   True  "
      ]
     },
     "execution_count": 61,
     "metadata": {},
     "output_type": "execute_result"
    }
   ],
   "source": [
    "data.head()"
   ]
  },
  {
   "cell_type": "code",
   "execution_count": 62,
   "metadata": {},
   "outputs": [
    {
     "data": {
      "image/png": "[encoded data removed]",
      "text/plain": [
       "<Figure size 432x288 with 1 Axes>"
      ]
     },
     "metadata": {
      "needs_background": "light"
     },
     "output_type": "display_data"
    }
   ],
   "source": [
    "x=data['age'].hist()"
   ]
  },
  {
   "cell_type": "code",
   "execution_count": 63,
   "metadata": {},
   "outputs": [
    {
     "name": "stderr",
     "output_type": "stream",
     "text": [
      "C:\\Users\\lenovo\\Anaconda3\\lib\\site-packages\\seaborn\\_decorators.py:43: FutureWarning: Pass the following variable as a keyword arg: x. From version 0.12, the only valid positional argument will be `data`, and passing other arguments without an explicit keyword will result in an error or misinterpretation.\n",
      "  FutureWarning\n"
     ]
    },
    {
     "data": {
      "image/png": "[encoded data removed]",
      "text/plain": [
       "<Figure size 432x288 with 1 Axes>"
      ]
     },
     "metadata": {
      "needs_background": "light"
     },
     "output_type": "display_data"
    }
   ],
   "source": [
    "b=sns.boxplot(data['age'])"
   ]
  },
  {
   "cell_type": "code",
   "execution_count": 64,
   "metadata": {},
   "outputs": [
    {
     "name": "stdout",
     "output_type": "stream",
     "text": [
      "stats=nan,p=1.000\n",
      "probably guassian\n"
     ]
    }
   ],
   "source": [
    "# check the normality test via shiparo\n",
    "c=data[\"age\"]\n",
    "stat, p=shapiro(c)\n",
    "print(\"stats=%.3f,p=%.3f\" %(stat,p))\n",
    "if p>0.05:\n",
    "    print(\"probably guassian\")\n",
    "else:\n",
    "    print(\"probably not guassian\")"
   ]
  },
  {
   "cell_type": "code",
   "execution_count": 65,
   "metadata": {},
   "outputs": [
    {
     "name": "stderr",
     "output_type": "stream",
     "text": [
      "C:\\Users\\lenovo\\Anaconda3\\lib\\site-packages\\seaborn\\_decorators.py:43: FutureWarning: Pass the following variable as a keyword arg: x. From version 0.12, the only valid positional argument will be `data`, and passing other arguments without an explicit keyword will result in an error or misinterpretation.\n",
      "  FutureWarning\n"
     ]
    },
    {
     "data": {
      "image/png": "[encoded data removed]",
      "text/plain": [
       "<Figure size 432x288 with 1 Axes>"
      ]
     },
     "metadata": {
      "needs_background": "light"
     },
     "output_type": "display_data"
    }
   ],
   "source": [
    "d=sns.boxplot(data['fare'])"
   ]
  },
  {
   "cell_type": "code",
   "execution_count": 66,
   "metadata": {},
   "outputs": [
    {
     "name": "stdout",
     "output_type": "stream",
     "text": [
      "stats=0.522,p=0.000\n",
      "probably not guassian\n"
     ]
    }
   ],
   "source": [
    "khan=data[\"fare\"]\n",
    "stat, p=shapiro(khan)\n",
    "print(\"stats=%.3f,p=%.3f\" %(stat,p))\n",
    "if p>0.05:\n",
    "    print(\"probably guassian\")\n",
    "else:\n",
    "    print(\"probably not guassian\")"
   ]
  },
  {
   "cell_type": "code",
   "execution_count": 67,
   "metadata": {},
   "outputs": [
    {
     "data": {
      "text/html": [
       "<div>\n",
       "<style scoped>\n",
       "    .dataframe tbody tr th:only-of-type {\n",
       "        vertical-align: middle;\n",
       "    }\n",
       "\n",
       "    .dataframe tbody tr th {\n",
       "        vertical-align: top;\n",
       "    }\n",
       "\n",
       "    .dataframe thead th {\n",
       "        text-align: right;\n",
       "    }\n",
       "</style>\n",
       "<table border=\"1\" class=\"dataframe\">\n",
       "  <thead>\n",
       "    <tr style=\"text-align: right;\">\n",
       "      <th></th>\n",
       "      <th>survived</th>\n",
       "      <th>pclass</th>\n",
       "      <th>sex</th>\n",
       "      <th>age</th>\n",
       "      <th>sibsp</th>\n",
       "      <th>parch</th>\n",
       "      <th>fare</th>\n",
       "      <th>embarked</th>\n",
       "      <th>class</th>\n",
       "      <th>who</th>\n",
       "      <th>adult_male</th>\n",
       "      <th>deck</th>\n",
       "      <th>embark_town</th>\n",
       "      <th>alive</th>\n",
       "      <th>alone</th>\n",
       "    </tr>\n",
       "  </thead>\n",
       "  <tbody>\n",
       "    <tr>\n",
       "      <th>0</th>\n",
       "      <td>0</td>\n",
       "      <td>3</td>\n",
       "      <td>male</td>\n",
       "      <td>22.0</td>\n",
       "      <td>1</td>\n",
       "      <td>0</td>\n",
       "      <td>7.2500</td>\n",
       "      <td>S</td>\n",
       "      <td>Third</td>\n",
       "      <td>man</td>\n",
       "      <td>True</td>\n",
       "      <td>NaN</td>\n",
       "      <td>Southampton</td>\n",
       "      <td>no</td>\n",
       "      <td>False</td>\n",
       "    </tr>\n",
       "    <tr>\n",
       "      <th>1</th>\n",
       "      <td>1</td>\n",
       "      <td>1</td>\n",
       "      <td>female</td>\n",
       "      <td>38.0</td>\n",
       "      <td>1</td>\n",
       "      <td>0</td>\n",
       "      <td>71.2833</td>\n",
       "      <td>C</td>\n",
       "      <td>First</td>\n",
       "      <td>woman</td>\n",
       "      <td>False</td>\n",
       "      <td>C</td>\n",
       "      <td>Cherbourg</td>\n",
       "      <td>yes</td>\n",
       "      <td>False</td>\n",
       "    </tr>\n",
       "    <tr>\n",
       "      <th>2</th>\n",
       "      <td>1</td>\n",
       "      <td>3</td>\n",
       "      <td>female</td>\n",
       "      <td>26.0</td>\n",
       "      <td>0</td>\n",
       "      <td>0</td>\n",
       "      <td>7.9250</td>\n",
       "      <td>S</td>\n",
       "      <td>Third</td>\n",
       "      <td>woman</td>\n",
       "      <td>False</td>\n",
       "      <td>NaN</td>\n",
       "      <td>Southampton</td>\n",
       "      <td>yes</td>\n",
       "      <td>True</td>\n",
       "    </tr>\n",
       "    <tr>\n",
       "      <th>3</th>\n",
       "      <td>1</td>\n",
       "      <td>1</td>\n",
       "      <td>female</td>\n",
       "      <td>35.0</td>\n",
       "      <td>1</td>\n",
       "      <td>0</td>\n",
       "      <td>53.1000</td>\n",
       "      <td>S</td>\n",
       "      <td>First</td>\n",
       "      <td>woman</td>\n",
       "      <td>False</td>\n",
       "      <td>C</td>\n",
       "      <td>Southampton</td>\n",
       "      <td>yes</td>\n",
       "      <td>False</td>\n",
       "    </tr>\n",
       "    <tr>\n",
       "      <th>4</th>\n",
       "      <td>0</td>\n",
       "      <td>3</td>\n",
       "      <td>male</td>\n",
       "      <td>35.0</td>\n",
       "      <td>0</td>\n",
       "      <td>0</td>\n",
       "      <td>8.0500</td>\n",
       "      <td>S</td>\n",
       "      <td>Third</td>\n",
       "      <td>man</td>\n",
       "      <td>True</td>\n",
       "      <td>NaN</td>\n",
       "      <td>Southampton</td>\n",
       "      <td>no</td>\n",
       "      <td>True</td>\n",
       "    </tr>\n",
       "  </tbody>\n",
       "</table>\n",
       "</div>"
      ],
      "text/plain": [
       "   survived  pclass     sex   age  sibsp  parch     fare embarked  class  \\\n",
       "0         0       3    male  22.0      1      0   7.2500        S  Third   \n",
       "1         1       1  female  38.0      1      0  71.2833        C  First   \n",
       "2         1       3  female  26.0      0      0   7.9250        S  Third   \n",
       "3         1       1  female  35.0      1      0  53.1000        S  First   \n",
       "4         0       3    male  35.0      0      0   8.0500        S  Third   \n",
       "\n",
       "     who  adult_male deck  embark_town alive  alone  \n",
       "0    man        True  NaN  Southampton    no  False  \n",
       "1  woman       False    C    Cherbourg   yes  False  \n",
       "2  woman       False  NaN  Southampton   yes   True  \n",
       "3  woman       False    C  Southampton   yes  False  \n",
       "4    man        True  NaN  Southampton    no   True  "
      ]
     },
     "execution_count": 67,
     "metadata": {},
     "output_type": "execute_result"
    }
   ],
   "source": [
    "data.head()"
   ]
  },
  {
   "cell_type": "markdown",
   "metadata": {},
   "source": [
    "# 2. Correlation Test\n",
    "## 1. pearson's correlation coefficient Test\n",
    "test whether a two sample has a linear relationship (mean if one increase the other is increase or not)\n",
    "### Assumptions\n",
    "1. Observation in each sample or independent and identically disributed\n",
    "2. observation in each sample are normally distributed\n",
    "3. observation in each sample have the same variance\n",
    "4. intrepretation\n",
    "\n",
    "- H0: the two samples are independent.\n",
    "- H1: there is a dependeny between the sample (mean there is a correlation)\n"
   ]
  },
  {
   "cell_type": "code",
   "execution_count": 68,
   "metadata": {},
   "outputs": [
    {
     "name": "stdout",
     "output_type": "stream",
     "text": [
      "stats=0.276,p=0.441\n",
      "probably independent\n"
     ]
    }
   ],
   "source": [
    "from scipy.stats import pearsonr\n",
    "data1=[0.873,2.817,0.123,-0.945,-8.075,-5.436,9.360,-1.478,-1.637,-1.869]\n",
    "data2=[0.673,1.917,0.121,-1.945,-0.055,-1.436,0.380,-7.478,-1.637,-1.869]\n",
    "stat, p=pearsonr(data1,data2)\n",
    "print(\"stats=%.3f,p=%.3f\" %(stat,p))\n",
    "if p>0.05:\n",
    "    print(\"probably independent\")\n",
    "else:\n",
    "    print(\"probably dependent\")"
   ]
  },
  {
   "cell_type": "code",
   "execution_count": 69,
   "metadata": {},
   "outputs": [
    {
     "name": "stdout",
     "output_type": "stream",
     "text": [
      "stats=nan,p=1.000\n",
      "probably independent\n"
     ]
    }
   ],
   "source": [
    "khan=data[\"fare\"]\n",
    "iqrar=data[\"age\"]\n",
    "stat, p=pearsonr(khan,iqrar)\n",
    "print(\"stats=%.3f,p=%.3f\" %(stat,p))\n",
    "if p>0.05:\n",
    "    print(\"probably independent\")\n",
    "else:\n",
    "    print(\"probably dependent (correlation exist)\")"
   ]
  },
  {
   "cell_type": "markdown",
   "metadata": {},
   "source": [
    "## 2. spearman's Rank correlation\n",
    "check whether two samples have a monotonic relationship (the value of one variable increases, the other variable value decreases)\n",
    "### Assumptions\n",
    "1. Observation in each sample or independent and identically disributed\n",
    "2. observation in each sample can be ranked\n",
    "3. intrepretation\n",
    "4. non parametric (not normal distribution but results are the same)\n",
    "\n",
    "- H0: the two samples are independent.\n",
    "- H1: there is a dependeny between the sample (mean there is a correlation)\n"
   ]
  },
  {
   "cell_type": "code",
   "execution_count": 70,
   "metadata": {},
   "outputs": [
    {
     "name": "stdout",
     "output_type": "stream",
     "text": [
      "stats=0.564,p=0.090\n",
      "probably independent\n"
     ]
    }
   ],
   "source": [
    "from scipy.stats import spearmanr\n",
    "data1=[0.873,2.817,0.123,-0.945,-8.075,-5.436,9.360,-1.478,-1.637,-1.869]\n",
    "data2=[0.673,1.917,0.121,-1.945,-0.055,-1.436,0.380,-7.478,-1.637,-1.869]\n",
    "stat, p=spearmanr(data1,data2)\n",
    "print(\"stats=%.3f,p=%.3f\" %(stat,p))\n",
    "if p>0.05:\n",
    "    print(\"probably independent\")\n",
    "else:\n",
    "    print(\"probably dependent\")"
   ]
  },
  {
   "cell_type": "code",
   "execution_count": 72,
   "metadata": {},
   "outputs": [
    {
     "name": "stdout",
     "output_type": "stream",
     "text": [
      "stats=nan,p=nan\n",
      "probably dependent (correlation exist)\n"
     ]
    }
   ],
   "source": [
    "kha=data[\"fare\"]\n",
    "iqra=data[\"age\"]\n",
    "stat, p=spearmanr(kha,iqra)\n",
    "print(\"stats=%.3f,p=%.3f\" %(stat,p))\n",
    "if p>0.05:\n",
    "    print(\"probably independent\")\n",
    "else:\n",
    "    print(\"probably dependent (correlation exist)\")"
   ]
  },
  {
   "cell_type": "markdown",
   "metadata": {},
   "source": [
    "## 3. Chi-Squared Test\n",
    "check whether two categorical variable are related or independent ( in above two test we used two numerical here is categorical )\n",
    "### Assumption\n",
    "1. observation used in the calculation of the contingency table are independent. 25 or more examples in each cell of the contingency table.\n",
    "2. interpretation\n",
    "- H0: the two samples are independent \n",
    "- H1: there is a dependency between the sample "
   ]
  },
  {
   "cell_type": "code",
   "execution_count": 3,
   "metadata": {},
   "outputs": [
    {
     "name": "stdout",
     "output_type": "stream",
     "text": [
      "stat=%.3f,p=%.3f (0.27157465150403504, 0.873028283380073)\n",
      " p-value here is greater than 0.05. Therefore, we will accept our null hypothesis\n"
     ]
    }
   ],
   "source": [
    "from scipy.stats import chi2_contingency\n",
    "table=[[10,20,30],[6,9,17]] \n",
    "stat,p,dof,expected=chi2_contingency([table])\n",
    "print(\"stat=%.3f,p=%.3f\",(stat,p))\n",
    "if p>0.05:\n",
    "    print(\" p-value here is greater than 0.05. Therefore, we will accept our null hypothesis\")\n",
    "else:\n",
    "    print(\"p-value here is less than 0.05. Therefore, we will reject our null hypothesis\")"
   ]
  },
  {
   "cell_type": "markdown",
   "metadata": {},
   "source": [
    "# 3. Parametric Statistical Hypothesis Test\n",
    "## 1. student's T-Test\n",
    "test whether the means of two independent samples are significatlt different.\n",
    "### Assumptions:\n",
    "1. observations in each sample are independent and identically distributed\n",
    "2. observation in each sample are normally distributed \n",
    "3. observation in each sample have the same variance\n",
    "4. interpretation\n",
    "5. unpaired (mean two different thing combination class male and female marks )\n",
    "\n",
    "legnths may be different no problem\n",
    "\n",
    "- H0: the means of the samples are equal \n",
    "- H1: the means of the samples are unequal"
   ]
  },
  {
   "cell_type": "code",
   "execution_count": 4,
   "metadata": {},
   "outputs": [
    {
     "name": "stdout",
     "output_type": "stream",
     "text": [
      "stats=0.300,p=0.767\n",
      "the means are the same there is no difference\n"
     ]
    }
   ],
   "source": [
    "from scipy.stats import ttest_ind\n",
    "data1=[0.873,2.817,0.123,-0.945,-8.075,-5.436,9.360,-1.478,-1.637,-1.869]\n",
    "data2=[0.673,1.917,0.121,-1.945,-0.055,-1.436,0.380,-7.478,-1.637,-1.869]\n",
    "stat, p=ttest_ind(data1,data2)\n",
    "print(\"stats=%.3f,p=%.3f\" %(stat,p))\n",
    "if p>0.05:\n",
    "    print(\"the means are the same there is no difference\")\n",
    "else:\n",
    "    print(\"the means are not the same there is a difference \")"
   ]
  },
  {
   "cell_type": "markdown",
   "metadata": {},
   "source": [
    "## 2.  Paired student's T-Test\n",
    "test whether the means of two paired samples are significatly different \n",
    "- paired mean when we achive two things from same sample e.g(class male and female so here is much marks achive by female in math and statistics here we use two different sample from same class girl)\n",
    "- data set length must be same mean(if you want to calculate the 10 girls marks for maths it should be equal for statics 10 girls)"
   ]
  },
  {
   "cell_type": "code",
   "execution_count": 6,
   "metadata": {},
   "outputs": [
    {
     "name": "stdout",
     "output_type": "stream",
     "text": [
      "stats=0.343,p=0.740\n",
      "the means are the same there is no difference (same)\n"
     ]
    }
   ],
   "source": [
    "from scipy.stats import ttest_rel\n",
    "data1=[0.873,2.817,0.123,-0.945,-8.075,-5.436,9.360,-1.478,-1.637,-1.869]\n",
    "data2=[0.673,1.917,0.121,-1.945,-0.055,-1.436,0.380,-7.478,-1.637,-1.869]\n",
    "stat, p=ttest_rel(data1,data2)\n",
    "print(\"stats=%.3f,p=%.3f\" %(stat,p))\n",
    "if p>0.05:\n",
    "    print(\"the means are the same there is no difference (same)\")\n",
    "else:\n",
    "    print(\"the means are not the same there is a difference (different)\")"
   ]
  },
  {
   "cell_type": "markdown",
   "metadata": {},
   "source": [
    "## 3. Analysis of varience Test\n",
    "test whether the means of three or more independent sampel are significatly different"
   ]
  },
  {
   "cell_type": "code",
   "execution_count": 7,
   "metadata": {},
   "outputs": [
    {
     "name": "stdout",
     "output_type": "stream",
     "text": [
      "stats=0.062,p=0.940\n",
      "the means are the same there is no difference (same)\n"
     ]
    }
   ],
   "source": [
    "from scipy.stats import f_oneway\n",
    "data1=[0.873,2.817,0.123,-0.945,-8.075,-5.436,9.360,-1.478,-1.637,-1.869]\n",
    "data2=[0.673,1.917,0.121,-1.945,-0.055,-1.436,0.380,-7.478,-1.637,-1.869]\n",
    "data3=[0.673,6.917,0.121,-1.945,-0.055,-1.436,0.380,-7.478,-1.637,-1.869]\n",
    "stat, p=f_oneway(data1,data2,data3)\n",
    "print(\"stats=%.3f,p=%.3f\" %(stat,p))\n",
    "if p>0.05:\n",
    "    print(\"the means are the same there is no difference (same)\")\n",
    "else:\n",
    "    print(\"the means are not the same there is a difference (different)\")"
   ]
  },
  {
   "cell_type": "code",
   "execution_count": 10,
   "metadata": {},
   "outputs": [],
   "source": [
    "k=sns.load_dataset(\"titanic\")"
   ]
  },
  {
   "cell_type": "code",
   "execution_count": 12,
   "metadata": {},
   "outputs": [
    {
     "data": {
      "text/plain": [
       "<matplotlib.axes._subplots.AxesSubplot at 0x2bda1079940>"
      ]
     },
     "execution_count": 12,
     "metadata": {},
     "output_type": "execute_result"
    },
    {
     "data": {
      "image/png": "[encoded data removed]",
      "text/plain": [
       "<Figure size 432x288 with 1 Axes>"
      ]
     },
     "metadata": {
      "needs_background": "light"
     },
     "output_type": "display_data"
    }
   ],
   "source": [
    "sns.scatterplot(data=k,x=\"age\",y=\"fare\",hue=\"class\")"
   ]
  }
 ],
 "metadata": {
  "interpreter": {
   "hash": "445008aef75f8a681a37ec417fc10da0b0223a565823ee726d94afc018b22edb"
  },
  "kernelspec": {
   "display_name": "Python 3.7.3 ('base')",
   "language": "python",
   "name": "python3"
  },
  "language_info": {
   "codemirror_mode": {
    "name": "ipython",
    "version": 3
   },
   "file_extension": ".py",
   "mimetype": "text/x-python",
   "name": "python",
   "nbconvert_exporter": "python",
   "pygments_lexer": "ipython3",
   "version": "3.7.3"
  },
  "orig_nbformat": 4
 },
 "nbformat": 4,
 "nbformat_minor": 2
}
