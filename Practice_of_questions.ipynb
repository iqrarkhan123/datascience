{
 "cells": [
  {
   "cell_type": "code",
   "execution_count": 1,
   "metadata": {},
   "outputs": [
    {
     "name": "stdout",
     "output_type": "stream",
     "text": [
      "iqrar q\n",
      "(5, 1)\n"
     ]
    }
   ],
   "source": [
    "# code to input two string from user separated by comma(,) and then count the character of orignal string \n",
    "# and the character that is with in the current string\n",
    "lst,lstw = input().split(',')\n",
    "num = len(lst),lst.count(lstw)\n",
    "print (lst,lstw)\n",
    "print(num)"
   ]
  },
  {
   "cell_type": "code",
   "execution_count": null,
   "metadata": {},
   "outputs": [],
   "source": [
    "# program to input string from the user and take the reverse of that also using some string formatting\n",
    "txt =input(\"Enter the String You Want To Reverse: \")\n",
    "khan='you have enter the string  \"{0}\" and the reverse of the String \"{0}\" is : '+txt[::-1]\n",
    "print(khan.format(txt))"
   ]
  },
  {
   "cell_type": "markdown",
   "metadata": {},
   "source": [
    "# Day 6 \n",
    "## Loops"
   ]
  },
  {
   "cell_type": "code",
   "execution_count": 2,
   "metadata": {},
   "outputs": [],
   "source": [
    "# Loop is used to execute specific code again and again\n",
    "# Programming languages has 2 loops,\n",
    "#     1: while loop\n",
    "#     2: for loop\n",
    "# “While loop” work can be done by “for loop” and vice versa\n",
    "# We have to initialise a variable to run while loop"
   ]
  },
  {
   "cell_type": "code",
   "execution_count": 4,
   "metadata": {},
   "outputs": [
    {
     "name": "stdout",
     "output_type": "stream",
     "text": [
      " 1 iqrar\n",
      " 2 iqrar\n",
      " 3 iqrar\n",
      " 4 iqrar\n",
      " 5 iqrar\n",
      " 6 iqrar\n",
      " 7 iqrar\n",
      " 8 iqrar\n",
      " 9 iqrar\n",
      " 10 iqrar\n"
     ]
    }
   ],
   "source": [
    "i=1\n",
    "while i<=10:\n",
    "    print(f' {i} iqrar')\n",
    "    i+=1"
   ]
  },
  {
   "cell_type": "code",
   "execution_count": 8,
   "metadata": {},
   "outputs": [
    {
     "name": "stdout",
     "output_type": "stream",
     "text": [
      "3\n",
      "6\n"
     ]
    }
   ],
   "source": [
    "vowels = ['a', 'e', 'i', 'o', 'i', 'u','o']\n",
    "\n",
    "print(vowels.index('o',3))\n",
    "print(vowels.index('o',6))"
   ]
  },
  {
   "cell_type": "code",
   "execution_count": 9,
   "metadata": {},
   "outputs": [
    {
     "name": "stdout",
     "output_type": "stream",
     "text": [
      "20.0\n"
     ]
    }
   ],
   "source": [
    "def tax_cal(income, married=True, parent=0,childeren=0):\n",
    "    # income=int(input('enter the income:'))\n",
    "    # married=input('enter the income:')\n",
    "    # parent=int(input('enter the parents:'))\n",
    "    # childeren=int(input('enter the childeren'))\n",
    "    if income==265000 and married==True and parent==0 and childeren==0:\n",
    "        tax=(income-264000)*0.02\n",
    "        print(tax)\n",
    "tax_cal(265000,True,0,0)"
   ]
  },
  {
   "cell_type": "code",
   "execution_count": 1,
   "metadata": {},
   "outputs": [
    {
     "data": {
      "text/plain": [
       "['.git',\n",
       " '.ipynb_checkpoints',\n",
       " 'all-data',\n",
       " 'all-data.csv',\n",
       " 'All_Data.csv',\n",
       " 'Attachment_1647145565.csv',\n",
       " 'best_features.xlsx',\n",
       " 'cars.csv',\n",
       " 'data.csv',\n",
       " 'Data_Wrangling.ipynb',\n",
       " 'Decision_tree_classifies.ipynb',\n",
       " 'Dragon_Real_State_ML_Algo.ipynb',\n",
       " 'EDA.ipynb',\n",
       " 'foodie.joblib',\n",
       " 'house.ipynb',\n",
       " 'K-nearest_nieghbour.ipynb',\n",
       " 'kashti.csv',\n",
       " 'lavoro.csv',\n",
       " 'Lavoro_practice_project.ipynb',\n",
       " 'Liner_regresstion_on_salary_data.ipynb',\n",
       " 'mldata.csv',\n",
       " 'ml_practise.ipynb',\n",
       " 'Multiple_linear_regression.ipynb',\n",
       " 'My_Data _Science_Notebook.ipynb',\n",
       " 'my_own_linera_moder.ipynb',\n",
       " 'Pandas_casestudy.ipynb',\n",
       " 'Practice_of_questions.ipynb',\n",
       " 'salary_data.csv',\n",
       " 'statistics.ipynb',\n",
       " 'Stats_test_in_python.ipynb',\n",
       " 'train.csv',\n",
       " 'trains.csv']"
      ]
     },
     "execution_count": 1,
     "metadata": {},
     "output_type": "execute_result"
    }
   ],
   "source": [
    "import os\n",
    "os.listdir()"
   ]
  },
  {
   "cell_type": "code",
   "execution_count": 11,
   "metadata": {},
   "outputs": [
    {
     "name": "stdout",
     "output_type": "stream",
     "text": [
      "1*5=: 5\n",
      "2*5=: 10\n",
      "3*5=: 15\n",
      "4*5=: 20\n",
      "5*5=: 25\n",
      "6*5=: 30\n",
      "7*5=: 35\n",
      "8*5=: 40\n",
      "9*5=: 45\n",
      "10*5=: 50\n"
     ]
    }
   ],
   "source": [
    "for i in range (1,10+1):\n",
    "    table_five=i*5\n",
    "    print(f'{i}*{5}=:',table_five)"
   ]
  },
  {
   "cell_type": "code",
   "execution_count": 7,
   "metadata": {},
   "outputs": [],
   "source": [
    "from playsound import playsound\n",
    "playsound('play.mp3')\n",
    "playsound.start()\n",
    "input('press enter to stop play back')\n",
    "playsound.terminate()"
   ]
  },
  {
   "cell_type": "code",
   "execution_count": 3,
   "metadata": {},
   "outputs": [],
   "source": [
    "import multiprocessing\n",
    "from playsound import playsound\n",
    "\n",
    "p = multiprocessing.Process(target=playsound, args=(\"play.mp3\",))\n",
    "p.start()\n",
    "input(\"press ENTER to stop playback\")\n",
    "p.terminate()"
   ]
  },
  {
   "cell_type": "code",
   "execution_count": 10,
   "metadata": {},
   "outputs": [
    {
     "name": "stdout",
     "output_type": "stream",
     "text": [
      "the reminder of 6 / 2 and is: 3.0\n"
     ]
    }
   ],
   "source": [
    "num= int(input('first number: '))\n",
    "# num2= int(input('enter second number: '))\n",
    "mod=num/2\n",
    "print(f'the reminder of {num} / {2} and is:',mod)"
   ]
  },
  {
   "cell_type": "code",
   "execution_count": 11,
   "metadata": {},
   "outputs": [
    {
     "data": {
      "text/plain": [
       "int"
      ]
     },
     "execution_count": 11,
     "metadata": {},
     "output_type": "execute_result"
    }
   ],
   "source": [
    "type(num)"
   ]
  },
  {
   "cell_type": "code",
   "execution_count": 13,
   "metadata": {},
   "outputs": [
    {
     "name": "stdout",
     "output_type": "stream",
     "text": [
      "False\n"
     ]
    }
   ],
   "source": [
    "a=34\n",
    "b=23\n",
    "c=a<b\n",
    "print(c)"
   ]
  },
  {
   "cell_type": "code",
   "execution_count": 32,
   "metadata": {},
   "outputs": [
    {
     "name": "stdout",
     "output_type": "stream",
     "text": [
      "the average of 8 and 5 is:  6.5\n"
     ]
    }
   ],
   "source": [
    "x= int(input('enter a number: '))\n",
    "y= int(input('enter another number: '))\n",
    "z= (x+y)/2\n",
    "# s=int(z)\n",
    "# xy=z/2\n",
    "print(f'the average of {x} and {y} is: ', z)"
   ]
  },
  {
   "cell_type": "code",
   "execution_count": 35,
   "metadata": {},
   "outputs": [
    {
     "name": "stdout",
     "output_type": "stream",
     "text": [
      "36\n"
     ]
    }
   ],
   "source": [
    "x= int(input('enter a number: '))\n",
    "b=(x**2)\n",
    "print(b)"
   ]
  }
 ],
 "metadata": {
  "interpreter": {
   "hash": "445008aef75f8a681a37ec417fc10da0b0223a565823ee726d94afc018b22edb"
  },
  "kernelspec": {
   "display_name": "Python 3.7.3 ('base')",
   "language": "python",
   "name": "python3"
  },
  "language_info": {
   "codemirror_mode": {
    "name": "ipython",
    "version": 3
   },
   "file_extension": ".py",
   "mimetype": "text/x-python",
   "name": "python",
   "nbconvert_exporter": "python",
   "pygments_lexer": "ipython3",
   "version": "3.7.3"
  },
  "orig_nbformat": 4
 },
 "nbformat": 4,
 "nbformat_minor": 2
}
