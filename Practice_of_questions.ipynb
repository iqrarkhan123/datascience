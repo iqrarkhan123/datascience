{
 "cells": [
  {
   "cell_type": "code",
   "execution_count": 2,
   "metadata": {},
   "outputs": [
    {
     "name": "stdout",
     "output_type": "stream",
     "text": [
      "iqrar r\n",
      "(5, 2)\n"
     ]
    }
   ],
   "source": [
    "# code to input two string from user separated by comma(,) and then count the character of orignal string \n",
    "# and the character that is with in the current string\n",
    "lst,lstw = input().split(',')\n",
    "num = len(lst),lst.count(lstw)\n",
    "print (lst,lstw)\n",
    "print(num)"
   ]
  },
  {
   "cell_type": "code",
   "execution_count": 13,
   "metadata": {},
   "outputs": [
    {
     "name": "stdout",
     "output_type": "stream",
     "text": [
      "you have enter the string  \"iqrar khan from mardan\" and the reverse of the String \"iqrar khan from mardan\" is : nadram morf nahk rarqi\n"
     ]
    }
   ],
   "source": [
    "# program to input string from the user and take the reverse of that also using some string formatting\n",
    "txt =input(\"Enter the String You Want To Reverse: \")\n",
    "khan='you have enter the string  \"{0}\" and the reverse of the String \"{0}\" is : '+txt[::-1]\n",
    "print(khan.format(txt))"
   ]
  }
 ],
 "metadata": {
  "interpreter": {
   "hash": "445008aef75f8a681a37ec417fc10da0b0223a565823ee726d94afc018b22edb"
  },
  "kernelspec": {
   "display_name": "Python 3.7.3 ('base')",
   "language": "python",
   "name": "python3"
  },
  "language_info": {
   "codemirror_mode": {
    "name": "ipython",
    "version": 3
   },
   "file_extension": ".py",
   "mimetype": "text/x-python",
   "name": "python",
   "nbconvert_exporter": "python",
   "pygments_lexer": "ipython3",
   "version": "3.7.3"
  },
  "orig_nbformat": 4
 },
 "nbformat": 4,
 "nbformat_minor": 2
}
